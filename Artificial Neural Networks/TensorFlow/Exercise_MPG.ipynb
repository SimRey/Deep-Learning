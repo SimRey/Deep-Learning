{
 "cells": [
  {
   "cell_type": "markdown",
   "metadata": {},
   "source": [
    "## <center> ANN Exercise MPG </center>"
   ]
  },
  {
   "cell_type": "markdown",
   "metadata": {},
   "source": [
    "In this worksheet it will be predicted how many miles can a car travel with one gallon of gas. This term is usually referred to as miles per gallon (MPG). For this case study, it will be used one of the classic datasets:\n",
    "<center>Auto MPG dataset.</center> \n",
    "\n",
    "Auto MPG was initially used in the 1983 American Statistical Association Exposition. The data concerns prediction of city-cycle fuel consumption in miles per gallon in terms of three multivalued discrete and five continuous attributes."
   ]
  },
  {
   "cell_type": "code",
   "execution_count": 1,
   "metadata": {},
   "outputs": [],
   "source": [
    "import tensorflow as tf\n",
    "import pandas as pd\n",
    "import numpy as np\n",
    "import matplotlib.pyplot as plt\n",
    "import seaborn as sns"
   ]
  },
  {
   "cell_type": "markdown",
   "metadata": {},
   "source": [
    "### Data exploration"
   ]
  },
  {
   "cell_type": "code",
   "execution_count": 2,
   "metadata": {},
   "outputs": [
    {
     "data": {
      "text/html": [
       "<div>\n",
       "<style scoped>\n",
       "    .dataframe tbody tr th:only-of-type {\n",
       "        vertical-align: middle;\n",
       "    }\n",
       "\n",
       "    .dataframe tbody tr th {\n",
       "        vertical-align: top;\n",
       "    }\n",
       "\n",
       "    .dataframe thead th {\n",
       "        text-align: right;\n",
       "    }\n",
       "</style>\n",
       "<table border=\"1\" class=\"dataframe\">\n",
       "  <thead>\n",
       "    <tr style=\"text-align: right;\">\n",
       "      <th></th>\n",
       "      <th>mpg</th>\n",
       "      <th>cylinders</th>\n",
       "      <th>displacement</th>\n",
       "      <th>horsepower</th>\n",
       "      <th>weight</th>\n",
       "      <th>acceleration</th>\n",
       "      <th>model_year</th>\n",
       "      <th>origin</th>\n",
       "      <th>name</th>\n",
       "    </tr>\n",
       "  </thead>\n",
       "  <tbody>\n",
       "    <tr>\n",
       "      <th>0</th>\n",
       "      <td>18.0</td>\n",
       "      <td>8</td>\n",
       "      <td>307.0</td>\n",
       "      <td>130</td>\n",
       "      <td>3504</td>\n",
       "      <td>12.0</td>\n",
       "      <td>70</td>\n",
       "      <td>1</td>\n",
       "      <td>chevrolet chevelle malibu</td>\n",
       "    </tr>\n",
       "    <tr>\n",
       "      <th>1</th>\n",
       "      <td>15.0</td>\n",
       "      <td>8</td>\n",
       "      <td>350.0</td>\n",
       "      <td>165</td>\n",
       "      <td>3693</td>\n",
       "      <td>11.5</td>\n",
       "      <td>70</td>\n",
       "      <td>1</td>\n",
       "      <td>buick skylark 320</td>\n",
       "    </tr>\n",
       "    <tr>\n",
       "      <th>2</th>\n",
       "      <td>18.0</td>\n",
       "      <td>8</td>\n",
       "      <td>318.0</td>\n",
       "      <td>150</td>\n",
       "      <td>3436</td>\n",
       "      <td>11.0</td>\n",
       "      <td>70</td>\n",
       "      <td>1</td>\n",
       "      <td>plymouth satellite</td>\n",
       "    </tr>\n",
       "    <tr>\n",
       "      <th>3</th>\n",
       "      <td>16.0</td>\n",
       "      <td>8</td>\n",
       "      <td>304.0</td>\n",
       "      <td>150</td>\n",
       "      <td>3433</td>\n",
       "      <td>12.0</td>\n",
       "      <td>70</td>\n",
       "      <td>1</td>\n",
       "      <td>amc rebel sst</td>\n",
       "    </tr>\n",
       "    <tr>\n",
       "      <th>4</th>\n",
       "      <td>17.0</td>\n",
       "      <td>8</td>\n",
       "      <td>302.0</td>\n",
       "      <td>140</td>\n",
       "      <td>3449</td>\n",
       "      <td>10.5</td>\n",
       "      <td>70</td>\n",
       "      <td>1</td>\n",
       "      <td>ford torino</td>\n",
       "    </tr>\n",
       "  </tbody>\n",
       "</table>\n",
       "</div>"
      ],
      "text/plain": [
       "    mpg  cylinders  displacement horsepower  weight  acceleration  model_year  \\\n",
       "0  18.0          8         307.0        130    3504          12.0          70   \n",
       "1  15.0          8         350.0        165    3693          11.5          70   \n",
       "2  18.0          8         318.0        150    3436          11.0          70   \n",
       "3  16.0          8         304.0        150    3433          12.0          70   \n",
       "4  17.0          8         302.0        140    3449          10.5          70   \n",
       "\n",
       "   origin                       name  \n",
       "0       1  chevrolet chevelle malibu  \n",
       "1       1          buick skylark 320  \n",
       "2       1         plymouth satellite  \n",
       "3       1              amc rebel sst  \n",
       "4       1                ford torino  "
      ]
     },
     "execution_count": 2,
     "metadata": {},
     "output_type": "execute_result"
    }
   ],
   "source": [
    "df = pd.read_csv('C:/Users/Lenovo/Desktop/Python/Deep Learning/Data Sets/TensorFlow/mpg.csv')\n",
    "df.head()"
   ]
  },
  {
   "cell_type": "code",
   "execution_count": 4,
   "metadata": {},
   "outputs": [
    {
     "name": "stdout",
     "output_type": "stream",
     "text": [
      "<class 'pandas.core.frame.DataFrame'>\n",
      "RangeIndex: 398 entries, 0 to 397\n",
      "Data columns (total 9 columns):\n",
      " #   Column        Non-Null Count  Dtype  \n",
      "---  ------        --------------  -----  \n",
      " 0   mpg           398 non-null    float64\n",
      " 1   cylinders     398 non-null    int64  \n",
      " 2   displacement  398 non-null    float64\n",
      " 3   horsepower    398 non-null    object \n",
      " 4   weight        398 non-null    int64  \n",
      " 5   acceleration  398 non-null    float64\n",
      " 6   model_year    398 non-null    int64  \n",
      " 7   origin        398 non-null    int64  \n",
      " 8   name          398 non-null    object \n",
      "dtypes: float64(3), int64(4), object(2)\n",
      "memory usage: 28.1+ KB\n"
     ]
    }
   ],
   "source": [
    "df.info()"
   ]
  },
  {
   "cell_type": "code",
   "execution_count": 5,
   "metadata": {},
   "outputs": [],
   "source": [
    "df.drop(columns=\"name\", inplace=True)"
   ]
  },
  {
   "cell_type": "code",
   "execution_count": 6,
   "metadata": {},
   "outputs": [],
   "source": [
    "df.horsepower.replace(\"?\", np.nan, inplace=True)\n",
    "df.dropna(how=\"any\", inplace=True)\n",
    "df.horsepower = df.horsepower.apply(lambda x: float(x))"
   ]
  },
  {
   "cell_type": "markdown",
   "metadata": {},
   "source": [
    "In this case, origin is set as Europe (1), USA (2) and Japan(3). To avoid that Japan has more importance or weight in the model, a OneHotEncoding is performed."
   ]
  },
  {
   "cell_type": "code",
   "execution_count": 7,
   "metadata": {},
   "outputs": [],
   "source": [
    "counts = df[\"origin\"]\n",
    "\n",
    "counts_data = pd.get_dummies(counts, drop_first=True)\n",
    "counts_data.columns = [\"USA\", \"Japan\"]"
   ]
  },
  {
   "cell_type": "code",
   "execution_count": 8,
   "metadata": {},
   "outputs": [],
   "source": [
    "df = pd.concat([df, counts_data], axis=1)\n",
    "df.drop(columns=\"origin\", inplace=True)"
   ]
  },
  {
   "cell_type": "code",
   "execution_count": 9,
   "metadata": {},
   "outputs": [
    {
     "data": {
      "text/plain": [
       "<AxesSubplot:>"
      ]
     },
     "execution_count": 9,
     "metadata": {},
     "output_type": "execute_result"
    },
    {
     "data": {
      "image/png": "[encoded data removed]",
      "text/plain": [
       "<Figure size 1000x800 with 2 Axes>"
      ]
     },
     "metadata": {},
     "output_type": "display_data"
    }
   ],
   "source": [
    "plt.figure(figsize=(10,8))\n",
    "sns.heatmap(df.corr(), annot=True)"
   ]
  },
  {
   "cell_type": "markdown",
   "metadata": {},
   "source": [
    "### Train Test Split and Scale"
   ]
  },
  {
   "cell_type": "code",
   "execution_count": 10,
   "metadata": {},
   "outputs": [],
   "source": [
    "from sklearn.model_selection import train_test_split\n",
    "from sklearn.preprocessing import MinMaxScaler"
   ]
  },
  {
   "cell_type": "code",
   "execution_count": 11,
   "metadata": {},
   "outputs": [],
   "source": [
    "X = df.drop(columns=\"mpg\").values\n",
    "y = df[\"mpg\"].values"
   ]
  },
  {
   "cell_type": "code",
   "execution_count": 12,
   "metadata": {},
   "outputs": [
    {
     "data": {
      "text/plain": [
       "((392, 8), (392,))"
      ]
     },
     "execution_count": 12,
     "metadata": {},
     "output_type": "execute_result"
    }
   ],
   "source": [
    "X.shape, y.shape"
   ]
  },
  {
   "cell_type": "code",
   "execution_count": 13,
   "metadata": {},
   "outputs": [],
   "source": [
    "X_train, X_test, y_train, y_test = train_test_split(X, y, test_size=0.2, random_state=101)"
   ]
  },
  {
   "cell_type": "code",
   "execution_count": 14,
   "metadata": {},
   "outputs": [],
   "source": [
    "scaler = MinMaxScaler()\n",
    "\n",
    "X_train = scaler.fit_transform(X_train)\n",
    "X_test = scaler.transform(X_test)"
   ]
  },
  {
   "cell_type": "markdown",
   "metadata": {},
   "source": [
    "### Creating the Model"
   ]
  },
  {
   "cell_type": "code",
   "execution_count": 15,
   "metadata": {},
   "outputs": [],
   "source": [
    "from tensorflow.keras.models import Sequential\n",
    "from tensorflow.keras.layers import Dense\n",
    "from tensorflow.keras.callbacks import EarlyStopping"
   ]
  },
  {
   "cell_type": "code",
   "execution_count": 16,
   "metadata": {},
   "outputs": [],
   "source": [
    "model = Sequential()\n",
    "model.add(Dense(X.shape[1],  activation='relu'))\n",
    "\n",
    "# hidden layers\n",
    "model.add(Dense(32, activation='relu'))\n",
    "model.add(Dense(16, activation='relu'))\n",
    "\n",
    "# output layer\n",
    "model.add(Dense(units=1))"
   ]
  },
  {
   "cell_type": "markdown",
   "metadata": {},
   "source": [
    "### Model Configuration\n",
    "\n",
    "Now that we build the main network structure of our neural network, we need to configure our optimizer, cost function, and metrics before initiating the training. We will use Adam optimizer and mean squared error (MSE) in our neural network. Additionally, TensorFlow will provide us mean absolute error (MAE) values as well as MSE values. We can configure our model with the following code:"
   ]
  },
  {
   "cell_type": "code",
   "execution_count": 17,
   "metadata": {},
   "outputs": [],
   "source": [
    "# Optimizer, Cost, and Metric Configuration\n",
    "model.compile(\n",
    "    optimizer='adam', \n",
    "    loss='mse', \n",
    "    metrics=['mae']\n",
    "    )\n",
    "\n",
    "# Early Stop Configuration\n",
    "early_stop=tf.keras.callbacks.EarlyStopping( monitor='val_loss', patience=25)"
   ]
  },
  {
   "cell_type": "code",
   "execution_count": 18,
   "metadata": {},
   "outputs": [
    {
     "name": "stdout",
     "output_type": "stream",
     "text": [
      "Epoch 1/1000\n",
      "8/8 [==============================] - 1s 35ms/step - loss: 619.3698 - mae: 23.5939 - val_loss: 596.1602 - val_mae: 23.0704\n",
      "Epoch 2/1000\n",
      "8/8 [==============================] - 0s 7ms/step - loss: 614.4490 - mae: 23.4838 - val_loss: 590.7056 - val_mae: 22.9464\n",
      "Epoch 3/1000\n",
      "8/8 [==============================] - 0s 9ms/step - loss: 608.1132 - mae: 23.3447 - val_loss: 583.4420 - val_mae: 22.7848\n",
      "Epoch 4/1000\n",
      "8/8 [==============================] - 0s 9ms/step - loss: 599.6929 - mae: 23.1640 - val_loss: 574.1260 - val_mae: 22.5782\n",
      "Epoch 5/1000\n",
      "8/8 [==============================] - 0s 7ms/step - loss: 589.2789 - mae: 22.9363 - val_loss: 562.6442 - val_mae: 22.3219\n",
      "Epoch 6/1000\n",
      "8/8 [==============================] - 0s 8ms/step - loss: 576.4353 - mae: 22.6544 - val_loss: 548.6324 - val_mae: 22.0047\n",
      "Epoch 7/1000\n",
      "8/8 [==============================] - 0s 7ms/step - loss: 560.4456 - mae: 22.3033 - val_loss: 531.7131 - val_mae: 21.6137\n",
      "Epoch 8/1000\n",
      "8/8 [==============================] - 0s 8ms/step - loss: 541.2120 - mae: 21.8673 - val_loss: 510.9378 - val_mae: 21.1216\n",
      "Epoch 9/1000\n",
      "8/8 [==============================] - 0s 8ms/step - loss: 517.8025 - mae: 21.3109 - val_loss: 485.1974 - val_mae: 20.4943\n",
      "Epoch 10/1000\n",
      "8/8 [==============================] - 0s 8ms/step - loss: 488.2431 - mae: 20.6122 - val_loss: 453.7031 - val_mae: 19.6956\n",
      "Epoch 11/1000\n",
      "8/8 [==============================] - 0s 7ms/step - loss: 452.5685 - mae: 19.7126 - val_loss: 414.9187 - val_mae: 18.6561\n",
      "Epoch 12/1000\n",
      "8/8 [==============================] - 0s 7ms/step - loss: 409.2224 - mae: 18.5341 - val_loss: 367.8068 - val_mae: 17.3015\n",
      "Epoch 13/1000\n",
      "8/8 [==============================] - 0s 8ms/step - loss: 356.2673 - mae: 17.0084 - val_loss: 313.5627 - val_mae: 15.5868\n",
      "Epoch 14/1000\n",
      "8/8 [==============================] - 0s 8ms/step - loss: 297.8805 - mae: 15.1273 - val_loss: 254.2826 - val_mae: 13.4441\n",
      "Epoch 15/1000\n",
      "8/8 [==============================] - 0s 8ms/step - loss: 235.5679 - mae: 12.9250 - val_loss: 195.8527 - val_mae: 11.0718\n",
      "Epoch 16/1000\n",
      "8/8 [==============================] - 0s 6ms/step - loss: 178.8627 - mae: 10.7895 - val_loss: 144.7321 - val_mae: 9.2438\n",
      "Epoch 17/1000\n",
      "8/8 [==============================] - 0s 7ms/step - loss: 131.4357 - mae: 9.2456 - val_loss: 108.7290 - val_mae: 8.2648\n",
      "Epoch 18/1000\n",
      "8/8 [==============================] - 0s 7ms/step - loss: 100.4543 - mae: 8.2832 - val_loss: 88.7137 - val_mae: 7.6588\n",
      "Epoch 19/1000\n",
      "8/8 [==============================] - 0s 16ms/step - loss: 83.5468 - mae: 7.6275 - val_loss: 77.1255 - val_mae: 7.2857\n",
      "Epoch 20/1000\n",
      "8/8 [==============================] - 0s 9ms/step - loss: 72.1185 - mae: 7.1356 - val_loss: 67.3309 - val_mae: 6.8011\n",
      "Epoch 21/1000\n",
      "8/8 [==============================] - 0s 8ms/step - loss: 62.8432 - mae: 6.6296 - val_loss: 57.9669 - val_mae: 6.2632\n",
      "Epoch 22/1000\n",
      "8/8 [==============================] - 0s 7ms/step - loss: 53.7630 - mae: 6.0889 - val_loss: 50.0515 - val_mae: 5.7634\n",
      "Epoch 23/1000\n",
      "8/8 [==============================] - 0s 8ms/step - loss: 46.4508 - mae: 5.6358 - val_loss: 43.5711 - val_mae: 5.3281\n",
      "Epoch 24/1000\n",
      "8/8 [==============================] - 0s 9ms/step - loss: 40.4946 - mae: 5.2227 - val_loss: 38.4297 - val_mae: 4.9474\n",
      "Epoch 25/1000\n",
      "8/8 [==============================] - 0s 8ms/step - loss: 35.1867 - mae: 4.8488 - val_loss: 34.3628 - val_mae: 4.6001\n",
      "Epoch 26/1000\n",
      "8/8 [==============================] - 0s 8ms/step - loss: 31.1846 - mae: 4.5217 - val_loss: 31.0529 - val_mae: 4.3171\n",
      "Epoch 27/1000\n",
      "8/8 [==============================] - 0s 8ms/step - loss: 28.0601 - mae: 4.2437 - val_loss: 28.4997 - val_mae: 4.0766\n",
      "Epoch 28/1000\n",
      "8/8 [==============================] - 0s 8ms/step - loss: 25.5299 - mae: 4.0175 - val_loss: 26.5703 - val_mae: 3.8816\n",
      "Epoch 29/1000\n",
      "8/8 [==============================] - 0s 7ms/step - loss: 23.6367 - mae: 3.8267 - val_loss: 25.1057 - val_mae: 3.7194\n",
      "Epoch 30/1000\n",
      "8/8 [==============================] - 0s 7ms/step - loss: 22.3142 - mae: 3.6952 - val_loss: 23.9471 - val_mae: 3.5853\n",
      "Epoch 31/1000\n",
      "8/8 [==============================] - 0s 7ms/step - loss: 21.0974 - mae: 3.5642 - val_loss: 23.0123 - val_mae: 3.5032\n",
      "Epoch 32/1000\n",
      "8/8 [==============================] - 0s 6ms/step - loss: 20.3339 - mae: 3.4827 - val_loss: 22.2925 - val_mae: 3.4548\n",
      "Epoch 33/1000\n",
      "8/8 [==============================] - 0s 7ms/step - loss: 19.6825 - mae: 3.4148 - val_loss: 21.8682 - val_mae: 3.4327\n",
      "Epoch 34/1000\n",
      "8/8 [==============================] - 0s 7ms/step - loss: 19.1939 - mae: 3.3687 - val_loss: 21.5140 - val_mae: 3.4254\n",
      "Epoch 35/1000\n",
      "8/8 [==============================] - 0s 7ms/step - loss: 18.8608 - mae: 3.3377 - val_loss: 21.1585 - val_mae: 3.4094\n",
      "Epoch 36/1000\n",
      "8/8 [==============================] - 0s 6ms/step - loss: 18.6325 - mae: 3.3186 - val_loss: 20.9049 - val_mae: 3.4014\n",
      "Epoch 37/1000\n",
      "8/8 [==============================] - 0s 7ms/step - loss: 18.3659 - mae: 3.2963 - val_loss: 20.7856 - val_mae: 3.4061\n",
      "Epoch 38/1000\n",
      "8/8 [==============================] - 0s 6ms/step - loss: 18.1952 - mae: 3.2779 - val_loss: 20.5834 - val_mae: 3.4024\n",
      "Epoch 39/1000\n",
      "8/8 [==============================] - 0s 7ms/step - loss: 18.0151 - mae: 3.2670 - val_loss: 20.4377 - val_mae: 3.4022\n",
      "Epoch 40/1000\n",
      "8/8 [==============================] - 0s 7ms/step - loss: 17.8760 - mae: 3.2568 - val_loss: 20.3242 - val_mae: 3.4076\n",
      "Epoch 41/1000\n",
      "8/8 [==============================] - 0s 7ms/step - loss: 17.7921 - mae: 3.2505 - val_loss: 20.1543 - val_mae: 3.4033\n",
      "Epoch 42/1000\n",
      "8/8 [==============================] - 0s 7ms/step - loss: 17.6350 - mae: 3.2393 - val_loss: 20.0127 - val_mae: 3.4004\n",
      "Epoch 43/1000\n",
      "8/8 [==============================] - 0s 7ms/step - loss: 17.5332 - mae: 3.2293 - val_loss: 19.9214 - val_mae: 3.3999\n",
      "Epoch 44/1000\n",
      "8/8 [==============================] - 0s 7ms/step - loss: 17.4111 - mae: 3.2209 - val_loss: 19.7404 - val_mae: 3.3870\n",
      "Epoch 45/1000\n",
      "8/8 [==============================] - 0s 6ms/step - loss: 17.3296 - mae: 3.2156 - val_loss: 19.5801 - val_mae: 3.3750\n",
      "Epoch 46/1000\n",
      "8/8 [==============================] - 0s 13ms/step - loss: 17.2287 - mae: 3.2110 - val_loss: 19.4859 - val_mae: 3.3770\n",
      "Epoch 47/1000\n",
      "8/8 [==============================] - 0s 8ms/step - loss: 17.1048 - mae: 3.1966 - val_loss: 19.4429 - val_mae: 3.3818\n",
      "Epoch 48/1000\n",
      "8/8 [==============================] - 0s 7ms/step - loss: 17.0521 - mae: 3.1925 - val_loss: 19.3064 - val_mae: 3.3717\n",
      "Epoch 49/1000\n",
      "8/8 [==============================] - 0s 6ms/step - loss: 16.9228 - mae: 3.1802 - val_loss: 19.2471 - val_mae: 3.3696\n",
      "Epoch 50/1000\n",
      "8/8 [==============================] - 0s 7ms/step - loss: 16.8372 - mae: 3.1736 - val_loss: 19.1403 - val_mae: 3.3573\n",
      "Epoch 51/1000\n",
      "8/8 [==============================] - 0s 7ms/step - loss: 16.7509 - mae: 3.1683 - val_loss: 18.9683 - val_mae: 3.3488\n",
      "Epoch 52/1000\n",
      "8/8 [==============================] - 0s 6ms/step - loss: 16.6538 - mae: 3.1586 - val_loss: 18.8960 - val_mae: 3.3434\n",
      "Epoch 53/1000\n",
      "8/8 [==============================] - 0s 7ms/step - loss: 16.5716 - mae: 3.1538 - val_loss: 18.7064 - val_mae: 3.3225\n",
      "Epoch 54/1000\n",
      "8/8 [==============================] - 0s 7ms/step - loss: 16.4697 - mae: 3.1457 - val_loss: 18.5940 - val_mae: 3.3176\n",
      "Epoch 55/1000\n",
      "8/8 [==============================] - 0s 7ms/step - loss: 16.3672 - mae: 3.1372 - val_loss: 18.5330 - val_mae: 3.3113\n",
      "Epoch 56/1000\n",
      "8/8 [==============================] - 0s 7ms/step - loss: 16.2813 - mae: 3.1270 - val_loss: 18.4535 - val_mae: 3.3010\n",
      "Epoch 57/1000\n",
      "8/8 [==============================] - 0s 7ms/step - loss: 16.1823 - mae: 3.1169 - val_loss: 18.3698 - val_mae: 3.2991\n",
      "Epoch 58/1000\n",
      "8/8 [==============================] - 0s 7ms/step - loss: 16.1020 - mae: 3.1120 - val_loss: 18.3312 - val_mae: 3.3020\n",
      "Epoch 59/1000\n",
      "8/8 [==============================] - 0s 8ms/step - loss: 16.0235 - mae: 3.1011 - val_loss: 18.2300 - val_mae: 3.2909\n",
      "Epoch 60/1000\n",
      "8/8 [==============================] - 0s 8ms/step - loss: 15.9269 - mae: 3.0932 - val_loss: 18.0794 - val_mae: 3.2773\n",
      "Epoch 61/1000\n",
      "8/8 [==============================] - 0s 7ms/step - loss: 15.8523 - mae: 3.0880 - val_loss: 17.9237 - val_mae: 3.2555\n",
      "Epoch 62/1000\n",
      "8/8 [==============================] - 0s 8ms/step - loss: 15.8096 - mae: 3.0901 - val_loss: 17.8064 - val_mae: 3.2400\n",
      "Epoch 63/1000\n",
      "8/8 [==============================] - 0s 8ms/step - loss: 15.6797 - mae: 3.0748 - val_loss: 17.7705 - val_mae: 3.2414\n",
      "Epoch 64/1000\n",
      "8/8 [==============================] - 0s 8ms/step - loss: 15.6099 - mae: 3.0670 - val_loss: 17.7648 - val_mae: 3.2469\n",
      "Epoch 65/1000\n",
      "8/8 [==============================] - 0s 9ms/step - loss: 15.5182 - mae: 3.0568 - val_loss: 17.6068 - val_mae: 3.2274\n",
      "Epoch 66/1000\n",
      "8/8 [==============================] - 0s 9ms/step - loss: 15.4357 - mae: 3.0508 - val_loss: 17.4645 - val_mae: 3.2030\n",
      "Epoch 67/1000\n",
      "8/8 [==============================] - 0s 10ms/step - loss: 15.3600 - mae: 3.0470 - val_loss: 17.3996 - val_mae: 3.2000\n",
      "Epoch 68/1000\n",
      "8/8 [==============================] - 0s 10ms/step - loss: 15.2947 - mae: 3.0401 - val_loss: 17.2513 - val_mae: 3.1756\n",
      "Epoch 69/1000\n",
      "8/8 [==============================] - 0s 9ms/step - loss: 15.1867 - mae: 3.0299 - val_loss: 17.2100 - val_mae: 3.1858\n",
      "Epoch 70/1000\n",
      "8/8 [==============================] - 0s 9ms/step - loss: 15.1455 - mae: 3.0258 - val_loss: 17.1769 - val_mae: 3.1977\n",
      "Epoch 71/1000\n",
      "8/8 [==============================] - 0s 10ms/step - loss: 15.0090 - mae: 3.0133 - val_loss: 16.9895 - val_mae: 3.1613\n",
      "Epoch 72/1000\n",
      "8/8 [==============================] - 0s 19ms/step - loss: 14.9180 - mae: 3.0072 - val_loss: 16.9082 - val_mae: 3.1547\n",
      "Epoch 73/1000\n",
      "8/8 [==============================] - 0s 19ms/step - loss: 14.8759 - mae: 3.0015 - val_loss: 16.9082 - val_mae: 3.1621\n",
      "Epoch 74/1000\n",
      "8/8 [==============================] - 0s 16ms/step - loss: 14.7490 - mae: 2.9872 - val_loss: 16.7664 - val_mae: 3.1399\n",
      "Epoch 75/1000\n",
      "8/8 [==============================] - 0s 17ms/step - loss: 14.6659 - mae: 2.9821 - val_loss: 16.6350 - val_mae: 3.1205\n",
      "Epoch 76/1000\n",
      "8/8 [==============================] - 0s 17ms/step - loss: 14.5916 - mae: 2.9786 - val_loss: 16.5551 - val_mae: 3.1110\n",
      "Epoch 77/1000\n",
      "8/8 [==============================] - 0s 19ms/step - loss: 14.5051 - mae: 2.9685 - val_loss: 16.5330 - val_mae: 3.1189\n",
      "Epoch 78/1000\n",
      "8/8 [==============================] - 0s 24ms/step - loss: 14.4523 - mae: 2.9603 - val_loss: 16.5079 - val_mae: 3.1296\n",
      "Epoch 79/1000\n",
      "8/8 [==============================] - 0s 27ms/step - loss: 14.3491 - mae: 2.9510 - val_loss: 16.3235 - val_mae: 3.0900\n",
      "Epoch 80/1000\n",
      "8/8 [==============================] - 0s 28ms/step - loss: 14.2541 - mae: 2.9417 - val_loss: 16.2553 - val_mae: 3.0843\n",
      "Epoch 81/1000\n",
      "8/8 [==============================] - 0s 25ms/step - loss: 14.1655 - mae: 2.9332 - val_loss: 16.1812 - val_mae: 3.0814\n",
      "Epoch 82/1000\n",
      "8/8 [==============================] - 0s 28ms/step - loss: 14.1044 - mae: 2.9276 - val_loss: 16.0637 - val_mae: 3.0636\n",
      "Epoch 83/1000\n",
      "8/8 [==============================] - 0s 24ms/step - loss: 13.9944 - mae: 2.9189 - val_loss: 16.0164 - val_mae: 3.0630\n",
      "Epoch 84/1000\n",
      "8/8 [==============================] - 0s 25ms/step - loss: 13.9073 - mae: 2.9100 - val_loss: 15.9840 - val_mae: 3.0652\n",
      "Epoch 85/1000\n",
      "8/8 [==============================] - 0s 22ms/step - loss: 13.8630 - mae: 2.9003 - val_loss: 15.9738 - val_mae: 3.0697\n",
      "Epoch 86/1000\n",
      "8/8 [==============================] - 0s 24ms/step - loss: 13.7659 - mae: 2.8916 - val_loss: 15.8148 - val_mae: 3.0397\n",
      "Epoch 87/1000\n",
      "8/8 [==============================] - 0s 23ms/step - loss: 13.6851 - mae: 2.8871 - val_loss: 15.7418 - val_mae: 3.0298\n",
      "Epoch 88/1000\n",
      "8/8 [==============================] - 0s 24ms/step - loss: 13.6733 - mae: 2.8911 - val_loss: 15.6264 - val_mae: 3.0152\n",
      "Epoch 89/1000\n",
      "8/8 [==============================] - 0s 22ms/step - loss: 13.5581 - mae: 2.8761 - val_loss: 15.6601 - val_mae: 3.0358\n",
      "Epoch 90/1000\n",
      "8/8 [==============================] - 0s 22ms/step - loss: 13.4970 - mae: 2.8658 - val_loss: 15.6722 - val_mae: 3.0457\n",
      "Epoch 91/1000\n",
      "8/8 [==============================] - 0s 31ms/step - loss: 13.4428 - mae: 2.8629 - val_loss: 15.4201 - val_mae: 2.9932\n",
      "Epoch 92/1000\n",
      "8/8 [==============================] - 0s 22ms/step - loss: 13.3449 - mae: 2.8582 - val_loss: 15.3486 - val_mae: 2.9865\n",
      "Epoch 93/1000\n",
      "8/8 [==============================] - 0s 24ms/step - loss: 13.2478 - mae: 2.8462 - val_loss: 15.3963 - val_mae: 3.0026\n",
      "Epoch 94/1000\n",
      "8/8 [==============================] - 0s 25ms/step - loss: 13.1871 - mae: 2.8390 - val_loss: 15.3024 - val_mae: 2.9907\n",
      "Epoch 95/1000\n",
      "8/8 [==============================] - 0s 22ms/step - loss: 13.1729 - mae: 2.8366 - val_loss: 15.1607 - val_mae: 2.9701\n",
      "Epoch 96/1000\n",
      "8/8 [==============================] - 0s 21ms/step - loss: 13.0177 - mae: 2.8249 - val_loss: 15.1480 - val_mae: 2.9728\n",
      "Epoch 97/1000\n",
      "8/8 [==============================] - 0s 21ms/step - loss: 12.9805 - mae: 2.8192 - val_loss: 15.1267 - val_mae: 2.9725\n",
      "Epoch 98/1000\n",
      "8/8 [==============================] - 0s 24ms/step - loss: 12.9315 - mae: 2.8077 - val_loss: 15.1974 - val_mae: 2.9925\n",
      "Epoch 99/1000\n",
      "8/8 [==============================] - 0s 21ms/step - loss: 12.8955 - mae: 2.8099 - val_loss: 14.9566 - val_mae: 2.9528\n",
      "Epoch 100/1000\n",
      "8/8 [==============================] - 0s 21ms/step - loss: 12.7597 - mae: 2.7996 - val_loss: 14.8990 - val_mae: 2.9420\n",
      "Epoch 101/1000\n",
      "8/8 [==============================] - 0s 20ms/step - loss: 12.6696 - mae: 2.7870 - val_loss: 14.9410 - val_mae: 2.9489\n",
      "Epoch 102/1000\n",
      "8/8 [==============================] - 0s 19ms/step - loss: 12.6078 - mae: 2.7777 - val_loss: 14.8695 - val_mae: 2.9429\n",
      "Epoch 103/1000\n",
      "8/8 [==============================] - 0s 18ms/step - loss: 12.5534 - mae: 2.7744 - val_loss: 14.7906 - val_mae: 2.9386\n",
      "Epoch 104/1000\n",
      "8/8 [==============================] - 0s 18ms/step - loss: 12.5491 - mae: 2.7760 - val_loss: 14.6478 - val_mae: 2.9150\n",
      "Epoch 105/1000\n",
      "8/8 [==============================] - 0s 18ms/step - loss: 12.3954 - mae: 2.7606 - val_loss: 14.6707 - val_mae: 2.9247\n",
      "Epoch 106/1000\n",
      "8/8 [==============================] - 0s 18ms/step - loss: 12.3392 - mae: 2.7510 - val_loss: 14.6358 - val_mae: 2.9197\n",
      "Epoch 107/1000\n",
      "8/8 [==============================] - 0s 15ms/step - loss: 12.3556 - mae: 2.7494 - val_loss: 14.6986 - val_mae: 2.9269\n",
      "Epoch 108/1000\n",
      "8/8 [==============================] - 0s 15ms/step - loss: 12.2080 - mae: 2.7351 - val_loss: 14.4993 - val_mae: 2.8953\n",
      "Epoch 109/1000\n",
      "8/8 [==============================] - 0s 19ms/step - loss: 12.1395 - mae: 2.7327 - val_loss: 14.3768 - val_mae: 2.8787\n",
      "Epoch 110/1000\n",
      "8/8 [==============================] - 0s 18ms/step - loss: 12.1112 - mae: 2.7346 - val_loss: 14.3741 - val_mae: 2.8826\n",
      "Epoch 111/1000\n",
      "8/8 [==============================] - 0s 18ms/step - loss: 12.0087 - mae: 2.7189 - val_loss: 14.3621 - val_mae: 2.8855\n",
      "Epoch 112/1000\n",
      "8/8 [==============================] - 0s 32ms/step - loss: 11.9617 - mae: 2.7104 - val_loss: 14.2957 - val_mae: 2.8763\n",
      "Epoch 113/1000\n",
      "8/8 [==============================] - 0s 22ms/step - loss: 11.9053 - mae: 2.7054 - val_loss: 14.2495 - val_mae: 2.8699\n",
      "Epoch 114/1000\n",
      "8/8 [==============================] - 0s 21ms/step - loss: 11.8519 - mae: 2.7007 - val_loss: 14.1431 - val_mae: 2.8545\n",
      "Epoch 115/1000\n",
      "8/8 [==============================] - 0s 21ms/step - loss: 11.8101 - mae: 2.6933 - val_loss: 14.1801 - val_mae: 2.8651\n",
      "Epoch 116/1000\n",
      "8/8 [==============================] - 0s 22ms/step - loss: 11.7158 - mae: 2.6802 - val_loss: 14.1331 - val_mae: 2.8624\n",
      "Epoch 117/1000\n",
      "8/8 [==============================] - 0s 22ms/step - loss: 11.6678 - mae: 2.6827 - val_loss: 13.9587 - val_mae: 2.8266\n",
      "Epoch 118/1000\n",
      "8/8 [==============================] - 0s 22ms/step - loss: 11.6441 - mae: 2.6728 - val_loss: 14.0213 - val_mae: 2.8536\n",
      "Epoch 119/1000\n",
      "8/8 [==============================] - 0s 21ms/step - loss: 11.5912 - mae: 2.6730 - val_loss: 13.8771 - val_mae: 2.8226\n",
      "Epoch 120/1000\n",
      "8/8 [==============================] - 0s 22ms/step - loss: 11.4656 - mae: 2.6598 - val_loss: 13.8016 - val_mae: 2.8107\n",
      "Epoch 121/1000\n",
      "8/8 [==============================] - 0s 23ms/step - loss: 11.5081 - mae: 2.6590 - val_loss: 13.8667 - val_mae: 2.8342\n",
      "Epoch 122/1000\n",
      "8/8 [==============================] - 0s 21ms/step - loss: 11.3184 - mae: 2.6398 - val_loss: 13.7099 - val_mae: 2.8066\n",
      "Epoch 123/1000\n",
      "8/8 [==============================] - 0s 21ms/step - loss: 11.3439 - mae: 2.6567 - val_loss: 13.5675 - val_mae: 2.7744\n",
      "Epoch 124/1000\n",
      "8/8 [==============================] - 0s 24ms/step - loss: 11.1973 - mae: 2.6365 - val_loss: 13.6042 - val_mae: 2.7931\n",
      "Epoch 125/1000\n",
      "8/8 [==============================] - 0s 21ms/step - loss: 11.2211 - mae: 2.6309 - val_loss: 13.7480 - val_mae: 2.8229\n",
      "Epoch 126/1000\n",
      "8/8 [==============================] - 0s 21ms/step - loss: 11.0808 - mae: 2.6087 - val_loss: 13.5036 - val_mae: 2.7774\n",
      "Epoch 127/1000\n",
      "8/8 [==============================] - 0s 22ms/step - loss: 11.1385 - mae: 2.6271 - val_loss: 13.3560 - val_mae: 2.7389\n",
      "Epoch 128/1000\n",
      "8/8 [==============================] - 0s 21ms/step - loss: 10.9843 - mae: 2.6110 - val_loss: 13.3761 - val_mae: 2.7545\n",
      "Epoch 129/1000\n",
      "8/8 [==============================] - 0s 21ms/step - loss: 10.9370 - mae: 2.5936 - val_loss: 13.4567 - val_mae: 2.7822\n",
      "Epoch 130/1000\n",
      "8/8 [==============================] - 0s 22ms/step - loss: 10.8399 - mae: 2.5826 - val_loss: 13.3352 - val_mae: 2.7581\n",
      "Epoch 131/1000\n",
      "8/8 [==============================] - 0s 36ms/step - loss: 10.7644 - mae: 2.5791 - val_loss: 13.2510 - val_mae: 2.7431\n",
      "Epoch 132/1000\n",
      "8/8 [==============================] - 0s 21ms/step - loss: 10.7077 - mae: 2.5740 - val_loss: 13.2344 - val_mae: 2.7465\n",
      "Epoch 133/1000\n",
      "8/8 [==============================] - 0s 22ms/step - loss: 10.6569 - mae: 2.5620 - val_loss: 13.1987 - val_mae: 2.7478\n",
      "Epoch 134/1000\n",
      "8/8 [==============================] - 0s 23ms/step - loss: 10.6154 - mae: 2.5574 - val_loss: 13.1029 - val_mae: 2.7287\n",
      "Epoch 135/1000\n",
      "8/8 [==============================] - 0s 20ms/step - loss: 10.5253 - mae: 2.5494 - val_loss: 13.0205 - val_mae: 2.7070\n",
      "Epoch 136/1000\n",
      "8/8 [==============================] - 0s 23ms/step - loss: 10.4768 - mae: 2.5449 - val_loss: 13.0313 - val_mae: 2.7221\n",
      "Epoch 137/1000\n",
      "8/8 [==============================] - 0s 28ms/step - loss: 10.4353 - mae: 2.5338 - val_loss: 13.0109 - val_mae: 2.7152\n",
      "Epoch 138/1000\n",
      "8/8 [==============================] - 0s 21ms/step - loss: 10.3825 - mae: 2.5229 - val_loss: 12.9971 - val_mae: 2.7238\n",
      "Epoch 139/1000\n",
      "8/8 [==============================] - 0s 21ms/step - loss: 10.2950 - mae: 2.5168 - val_loss: 12.8939 - val_mae: 2.7070\n",
      "Epoch 140/1000\n",
      "8/8 [==============================] - 0s 21ms/step - loss: 10.2131 - mae: 2.5122 - val_loss: 12.8082 - val_mae: 2.6884\n",
      "Epoch 141/1000\n",
      "8/8 [==============================] - 0s 21ms/step - loss: 10.1993 - mae: 2.5123 - val_loss: 12.7678 - val_mae: 2.6839\n",
      "Epoch 142/1000\n",
      "8/8 [==============================] - 0s 18ms/step - loss: 10.1273 - mae: 2.4989 - val_loss: 12.8728 - val_mae: 2.7194\n",
      "Epoch 143/1000\n",
      "8/8 [==============================] - 0s 20ms/step - loss: 10.0892 - mae: 2.4859 - val_loss: 12.8126 - val_mae: 2.7134\n",
      "Epoch 144/1000\n",
      "8/8 [==============================] - 0s 18ms/step - loss: 10.0150 - mae: 2.4898 - val_loss: 12.5973 - val_mae: 2.6632\n",
      "Epoch 145/1000\n",
      "8/8 [==============================] - 0s 19ms/step - loss: 9.9703 - mae: 2.4831 - val_loss: 12.6137 - val_mae: 2.6772\n",
      "Epoch 146/1000\n",
      "8/8 [==============================] - 0s 20ms/step - loss: 9.9298 - mae: 2.4763 - val_loss: 12.5534 - val_mae: 2.6694\n",
      "Epoch 147/1000\n",
      "8/8 [==============================] - 0s 19ms/step - loss: 9.8561 - mae: 2.4613 - val_loss: 12.6131 - val_mae: 2.6892\n",
      "Epoch 148/1000\n",
      "8/8 [==============================] - 0s 18ms/step - loss: 9.7804 - mae: 2.4527 - val_loss: 12.5019 - val_mae: 2.6694\n",
      "Epoch 149/1000\n",
      "8/8 [==============================] - 0s 31ms/step - loss: 9.7304 - mae: 2.4489 - val_loss: 12.4348 - val_mae: 2.6559\n",
      "Epoch 150/1000\n",
      "8/8 [==============================] - 0s 20ms/step - loss: 9.6861 - mae: 2.4322 - val_loss: 12.5145 - val_mae: 2.6796\n",
      "Epoch 151/1000\n",
      "8/8 [==============================] - 0s 22ms/step - loss: 9.6276 - mae: 2.4291 - val_loss: 12.3838 - val_mae: 2.6526\n",
      "Epoch 152/1000\n",
      "8/8 [==============================] - 0s 23ms/step - loss: 9.5677 - mae: 2.4245 - val_loss: 12.3576 - val_mae: 2.6536\n",
      "Epoch 153/1000\n",
      "8/8 [==============================] - 0s 18ms/step - loss: 9.5227 - mae: 2.4173 - val_loss: 12.3098 - val_mae: 2.6447\n",
      "Epoch 154/1000\n",
      "8/8 [==============================] - 0s 19ms/step - loss: 9.4583 - mae: 2.4039 - val_loss: 12.3326 - val_mae: 2.6568\n",
      "Epoch 155/1000\n",
      "8/8 [==============================] - 0s 20ms/step - loss: 9.4041 - mae: 2.3954 - val_loss: 12.2646 - val_mae: 2.6474\n",
      "Epoch 156/1000\n",
      "8/8 [==============================] - 0s 19ms/step - loss: 9.3479 - mae: 2.3967 - val_loss: 12.1315 - val_mae: 2.6135\n",
      "Epoch 157/1000\n",
      "8/8 [==============================] - 0s 19ms/step - loss: 9.3056 - mae: 2.3947 - val_loss: 12.1313 - val_mae: 2.6232\n",
      "Epoch 158/1000\n",
      "8/8 [==============================] - 0s 21ms/step - loss: 9.2608 - mae: 2.3775 - val_loss: 12.1418 - val_mae: 2.6306\n",
      "Epoch 159/1000\n",
      "8/8 [==============================] - 0s 18ms/step - loss: 9.2373 - mae: 2.3745 - val_loss: 12.0555 - val_mae: 2.6068\n",
      "Epoch 160/1000\n",
      "8/8 [==============================] - 0s 18ms/step - loss: 9.1420 - mae: 2.3652 - val_loss: 12.0380 - val_mae: 2.6102\n",
      "Epoch 161/1000\n",
      "8/8 [==============================] - 0s 19ms/step - loss: 9.0947 - mae: 2.3558 - val_loss: 12.0609 - val_mae: 2.6165\n",
      "Epoch 162/1000\n",
      "8/8 [==============================] - 0s 18ms/step - loss: 9.0852 - mae: 2.3537 - val_loss: 11.9720 - val_mae: 2.6006\n",
      "Epoch 163/1000\n",
      "8/8 [==============================] - 0s 17ms/step - loss: 8.9918 - mae: 2.3385 - val_loss: 12.0380 - val_mae: 2.6184\n",
      "Epoch 164/1000\n",
      "8/8 [==============================] - 0s 16ms/step - loss: 8.9670 - mae: 2.3286 - val_loss: 11.9570 - val_mae: 2.6044\n",
      "Epoch 165/1000\n",
      "8/8 [==============================] - 0s 18ms/step - loss: 8.9322 - mae: 2.3311 - val_loss: 11.7685 - val_mae: 2.5542\n",
      "Epoch 166/1000\n",
      "8/8 [==============================] - 0s 22ms/step - loss: 8.8727 - mae: 2.3286 - val_loss: 11.8875 - val_mae: 2.5898\n",
      "Epoch 167/1000\n",
      "8/8 [==============================] - 0s 19ms/step - loss: 8.8333 - mae: 2.3179 - val_loss: 11.7808 - val_mae: 2.5652\n",
      "Epoch 168/1000\n",
      "8/8 [==============================] - 0s 31ms/step - loss: 8.7504 - mae: 2.3010 - val_loss: 11.8308 - val_mae: 2.5799\n",
      "Epoch 169/1000\n",
      "8/8 [==============================] - 0s 20ms/step - loss: 8.6879 - mae: 2.2894 - val_loss: 11.7581 - val_mae: 2.5665\n",
      "Epoch 170/1000\n",
      "8/8 [==============================] - 0s 21ms/step - loss: 8.6139 - mae: 2.2827 - val_loss: 11.6704 - val_mae: 2.5381\n",
      "Epoch 171/1000\n",
      "8/8 [==============================] - 0s 18ms/step - loss: 8.5819 - mae: 2.2795 - val_loss: 11.6757 - val_mae: 2.5376\n",
      "Epoch 172/1000\n",
      "8/8 [==============================] - 0s 19ms/step - loss: 8.5783 - mae: 2.2784 - val_loss: 11.6346 - val_mae: 2.5267\n",
      "Epoch 173/1000\n",
      "8/8 [==============================] - 0s 18ms/step - loss: 8.4810 - mae: 2.2613 - val_loss: 11.6597 - val_mae: 2.5350\n",
      "Epoch 174/1000\n",
      "8/8 [==============================] - 0s 19ms/step - loss: 8.4154 - mae: 2.2505 - val_loss: 11.6117 - val_mae: 2.5342\n",
      "Epoch 175/1000\n",
      "8/8 [==============================] - 0s 17ms/step - loss: 8.3586 - mae: 2.2432 - val_loss: 11.5339 - val_mae: 2.5197\n",
      "Epoch 176/1000\n",
      "8/8 [==============================] - 0s 17ms/step - loss: 8.3136 - mae: 2.2387 - val_loss: 11.5267 - val_mae: 2.5167\n",
      "Epoch 177/1000\n",
      "8/8 [==============================] - 0s 21ms/step - loss: 8.2592 - mae: 2.2283 - val_loss: 11.4526 - val_mae: 2.5063\n",
      "Epoch 178/1000\n",
      "8/8 [==============================] - 0s 29ms/step - loss: 8.1995 - mae: 2.2200 - val_loss: 11.5533 - val_mae: 2.5267\n",
      "Epoch 179/1000\n",
      "8/8 [==============================] - 0s 18ms/step - loss: 8.1767 - mae: 2.2142 - val_loss: 11.4820 - val_mae: 2.5128\n",
      "Epoch 180/1000\n",
      "8/8 [==============================] - 0s 20ms/step - loss: 8.1039 - mae: 2.2077 - val_loss: 11.4330 - val_mae: 2.5069\n",
      "Epoch 181/1000\n",
      "8/8 [==============================] - 0s 19ms/step - loss: 8.1607 - mae: 2.2096 - val_loss: 11.5260 - val_mae: 2.5202\n",
      "Epoch 182/1000\n",
      "8/8 [==============================] - 0s 19ms/step - loss: 7.9738 - mae: 2.1878 - val_loss: 11.3407 - val_mae: 2.4808\n",
      "Epoch 183/1000\n",
      "8/8 [==============================] - 0s 20ms/step - loss: 7.9828 - mae: 2.1895 - val_loss: 11.2537 - val_mae: 2.4683\n",
      "Epoch 184/1000\n",
      "8/8 [==============================] - 0s 20ms/step - loss: 7.9400 - mae: 2.1813 - val_loss: 11.3692 - val_mae: 2.4948\n",
      "Epoch 185/1000\n",
      "8/8 [==============================] - 0s 18ms/step - loss: 7.9309 - mae: 2.1721 - val_loss: 11.2543 - val_mae: 2.4670\n",
      "Epoch 186/1000\n",
      "8/8 [==============================] - 0s 25ms/step - loss: 7.9060 - mae: 2.1776 - val_loss: 11.4332 - val_mae: 2.5031\n",
      "Epoch 187/1000\n",
      "8/8 [==============================] - 0s 21ms/step - loss: 7.7814 - mae: 2.1571 - val_loss: 11.1974 - val_mae: 2.4654\n",
      "Epoch 188/1000\n",
      "8/8 [==============================] - 0s 19ms/step - loss: 7.7652 - mae: 2.1552 - val_loss: 11.1225 - val_mae: 2.4584\n",
      "Epoch 189/1000\n",
      "8/8 [==============================] - 0s 17ms/step - loss: 7.7262 - mae: 2.1476 - val_loss: 11.2102 - val_mae: 2.4689\n",
      "Epoch 190/1000\n",
      "8/8 [==============================] - 0s 14ms/step - loss: 7.6902 - mae: 2.1405 - val_loss: 11.2092 - val_mae: 2.4692\n",
      "Epoch 191/1000\n",
      "8/8 [==============================] - 0s 13ms/step - loss: 7.6833 - mae: 2.1448 - val_loss: 11.0656 - val_mae: 2.4397\n",
      "Epoch 192/1000\n",
      "8/8 [==============================] - 0s 13ms/step - loss: 7.6343 - mae: 2.1329 - val_loss: 11.2247 - val_mae: 2.4720\n",
      "Epoch 193/1000\n",
      "8/8 [==============================] - 0s 13ms/step - loss: 7.5809 - mae: 2.1234 - val_loss: 11.1126 - val_mae: 2.4492\n",
      "Epoch 194/1000\n",
      "8/8 [==============================] - 0s 13ms/step - loss: 7.5221 - mae: 2.1175 - val_loss: 11.1619 - val_mae: 2.4609\n",
      "Epoch 195/1000\n",
      "8/8 [==============================] - 0s 13ms/step - loss: 7.4840 - mae: 2.1054 - val_loss: 11.0269 - val_mae: 2.4417\n",
      "Epoch 196/1000\n",
      "8/8 [==============================] - 0s 12ms/step - loss: 7.4681 - mae: 2.1031 - val_loss: 11.0967 - val_mae: 2.4494\n",
      "Epoch 197/1000\n",
      "8/8 [==============================] - 0s 13ms/step - loss: 7.4135 - mae: 2.0957 - val_loss: 11.0687 - val_mae: 2.4393\n",
      "Epoch 198/1000\n",
      "8/8 [==============================] - 0s 13ms/step - loss: 7.5000 - mae: 2.1028 - val_loss: 11.0293 - val_mae: 2.4240\n",
      "Epoch 199/1000\n",
      "8/8 [==============================] - 0s 14ms/step - loss: 7.4103 - mae: 2.1016 - val_loss: 11.2017 - val_mae: 2.4524\n",
      "Epoch 200/1000\n",
      "8/8 [==============================] - 0s 13ms/step - loss: 7.3347 - mae: 2.0758 - val_loss: 10.9787 - val_mae: 2.4238\n",
      "Epoch 201/1000\n",
      "8/8 [==============================] - 0s 13ms/step - loss: 7.3104 - mae: 2.0763 - val_loss: 10.9547 - val_mae: 2.4219\n",
      "Epoch 202/1000\n",
      "8/8 [==============================] - 0s 11ms/step - loss: 7.2827 - mae: 2.0689 - val_loss: 10.9758 - val_mae: 2.4265\n",
      "Epoch 203/1000\n",
      "8/8 [==============================] - 0s 10ms/step - loss: 7.2452 - mae: 2.0632 - val_loss: 10.9291 - val_mae: 2.4202\n",
      "Epoch 204/1000\n",
      "8/8 [==============================] - 0s 13ms/step - loss: 7.2597 - mae: 2.0631 - val_loss: 10.8686 - val_mae: 2.4106\n",
      "Epoch 205/1000\n",
      "8/8 [==============================] - 0s 16ms/step - loss: 7.2196 - mae: 2.0601 - val_loss: 11.0306 - val_mae: 2.4182\n",
      "Epoch 206/1000\n",
      "8/8 [==============================] - 0s 17ms/step - loss: 7.1824 - mae: 2.0557 - val_loss: 11.0806 - val_mae: 2.4242\n",
      "Epoch 207/1000\n",
      "8/8 [==============================] - 0s 16ms/step - loss: 7.2837 - mae: 2.0637 - val_loss: 10.8880 - val_mae: 2.3937\n",
      "Epoch 208/1000\n",
      "8/8 [==============================] - 0s 15ms/step - loss: 7.1699 - mae: 2.0444 - val_loss: 11.0792 - val_mae: 2.4344\n",
      "Epoch 209/1000\n",
      "8/8 [==============================] - 0s 17ms/step - loss: 7.1225 - mae: 2.0402 - val_loss: 10.9376 - val_mae: 2.4084\n",
      "Epoch 210/1000\n",
      "8/8 [==============================] - 0s 16ms/step - loss: 7.1509 - mae: 2.0399 - val_loss: 10.9092 - val_mae: 2.3939\n",
      "Epoch 211/1000\n",
      "8/8 [==============================] - 0s 16ms/step - loss: 7.0711 - mae: 2.0280 - val_loss: 10.9664 - val_mae: 2.4115\n",
      "Epoch 212/1000\n",
      "8/8 [==============================] - 0s 18ms/step - loss: 7.0443 - mae: 2.0177 - val_loss: 10.8250 - val_mae: 2.3899\n",
      "Epoch 213/1000\n",
      "8/8 [==============================] - 0s 15ms/step - loss: 7.0604 - mae: 2.0263 - val_loss: 10.9937 - val_mae: 2.4046\n",
      "Epoch 214/1000\n",
      "8/8 [==============================] - 0s 14ms/step - loss: 7.0411 - mae: 2.0204 - val_loss: 10.9172 - val_mae: 2.3975\n",
      "Epoch 215/1000\n",
      "8/8 [==============================] - 0s 18ms/step - loss: 7.0553 - mae: 2.0254 - val_loss: 10.9193 - val_mae: 2.3998\n",
      "Epoch 216/1000\n",
      "8/8 [==============================] - 0s 17ms/step - loss: 7.0219 - mae: 2.0132 - val_loss: 10.7793 - val_mae: 2.3762\n",
      "Epoch 217/1000\n",
      "8/8 [==============================] - 0s 16ms/step - loss: 7.0480 - mae: 2.0145 - val_loss: 10.9689 - val_mae: 2.4065\n",
      "Epoch 218/1000\n",
      "8/8 [==============================] - 0s 14ms/step - loss: 6.9411 - mae: 2.0020 - val_loss: 10.8610 - val_mae: 2.3820\n",
      "Epoch 219/1000\n",
      "8/8 [==============================] - 0s 15ms/step - loss: 6.9301 - mae: 1.9989 - val_loss: 10.9282 - val_mae: 2.3861\n",
      "Epoch 220/1000\n",
      "8/8 [==============================] - 0s 16ms/step - loss: 6.9296 - mae: 1.9999 - val_loss: 10.8776 - val_mae: 2.3865\n",
      "Epoch 221/1000\n",
      "8/8 [==============================] - 0s 26ms/step - loss: 6.9452 - mae: 2.0023 - val_loss: 10.9578 - val_mae: 2.3991\n",
      "Epoch 222/1000\n",
      "8/8 [==============================] - 0s 22ms/step - loss: 6.9108 - mae: 1.9954 - val_loss: 10.7766 - val_mae: 2.3592\n",
      "Epoch 223/1000\n",
      "8/8 [==============================] - 0s 17ms/step - loss: 6.9043 - mae: 1.9891 - val_loss: 10.8964 - val_mae: 2.3742\n",
      "Epoch 224/1000\n",
      "8/8 [==============================] - 0s 21ms/step - loss: 6.9967 - mae: 2.0102 - val_loss: 11.0076 - val_mae: 2.3984\n",
      "Epoch 225/1000\n",
      "8/8 [==============================] - 0s 18ms/step - loss: 7.0705 - mae: 2.0147 - val_loss: 10.8484 - val_mae: 2.3605\n",
      "Epoch 226/1000\n",
      "8/8 [==============================] - 0s 15ms/step - loss: 6.9050 - mae: 1.9868 - val_loss: 11.2583 - val_mae: 2.4286\n",
      "Epoch 227/1000\n",
      "8/8 [==============================] - 0s 16ms/step - loss: 6.8514 - mae: 1.9897 - val_loss: 10.9453 - val_mae: 2.3933\n",
      "Epoch 228/1000\n",
      "8/8 [==============================] - 0s 23ms/step - loss: 6.8148 - mae: 1.9818 - val_loss: 10.7892 - val_mae: 2.3606\n",
      "Epoch 229/1000\n",
      "8/8 [==============================] - 0s 19ms/step - loss: 6.8410 - mae: 1.9791 - val_loss: 10.9360 - val_mae: 2.3793\n",
      "Epoch 230/1000\n",
      "8/8 [==============================] - 0s 22ms/step - loss: 6.9044 - mae: 1.9903 - val_loss: 10.7533 - val_mae: 2.3540\n",
      "Epoch 231/1000\n",
      "8/8 [==============================] - 0s 22ms/step - loss: 6.7651 - mae: 1.9724 - val_loss: 11.0219 - val_mae: 2.3960\n",
      "Epoch 232/1000\n",
      "8/8 [==============================] - 0s 19ms/step - loss: 6.8164 - mae: 1.9735 - val_loss: 10.9659 - val_mae: 2.3893\n",
      "Epoch 233/1000\n",
      "8/8 [==============================] - 0s 21ms/step - loss: 6.7820 - mae: 1.9707 - val_loss: 10.9240 - val_mae: 2.3798\n",
      "Epoch 234/1000\n",
      "8/8 [==============================] - 0s 19ms/step - loss: 6.7793 - mae: 1.9654 - val_loss: 10.8912 - val_mae: 2.3670\n",
      "Epoch 235/1000\n",
      "8/8 [==============================] - 0s 17ms/step - loss: 6.7612 - mae: 1.9612 - val_loss: 10.8602 - val_mae: 2.3618\n",
      "Epoch 236/1000\n",
      "8/8 [==============================] - 0s 16ms/step - loss: 6.8337 - mae: 1.9741 - val_loss: 10.9302 - val_mae: 2.3728\n",
      "Epoch 237/1000\n",
      "8/8 [==============================] - 0s 21ms/step - loss: 6.8018 - mae: 1.9683 - val_loss: 10.8381 - val_mae: 2.3630\n",
      "Epoch 238/1000\n",
      "8/8 [==============================] - 0s 21ms/step - loss: 6.9439 - mae: 1.9907 - val_loss: 11.0951 - val_mae: 2.4024\n",
      "Epoch 239/1000\n",
      "8/8 [==============================] - 0s 20ms/step - loss: 6.7667 - mae: 1.9544 - val_loss: 10.7562 - val_mae: 2.3490\n",
      "Epoch 240/1000\n",
      "8/8 [==============================] - 0s 34ms/step - loss: 6.7152 - mae: 1.9500 - val_loss: 10.9521 - val_mae: 2.3706\n",
      "Epoch 241/1000\n",
      "8/8 [==============================] - 0s 23ms/step - loss: 6.7084 - mae: 1.9518 - val_loss: 11.1228 - val_mae: 2.3947\n",
      "Epoch 242/1000\n",
      "8/8 [==============================] - 0s 23ms/step - loss: 6.7436 - mae: 1.9603 - val_loss: 10.8730 - val_mae: 2.3639\n",
      "Epoch 243/1000\n",
      "8/8 [==============================] - 0s 26ms/step - loss: 6.7069 - mae: 1.9550 - val_loss: 11.0785 - val_mae: 2.3911\n",
      "Epoch 244/1000\n",
      "8/8 [==============================] - 0s 22ms/step - loss: 6.7702 - mae: 1.9639 - val_loss: 11.0468 - val_mae: 2.3901\n",
      "Epoch 245/1000\n",
      "8/8 [==============================] - 0s 20ms/step - loss: 6.8091 - mae: 1.9798 - val_loss: 10.7914 - val_mae: 2.3558\n",
      "Epoch 246/1000\n",
      "8/8 [==============================] - 0s 21ms/step - loss: 6.6904 - mae: 1.9521 - val_loss: 11.0110 - val_mae: 2.3775\n",
      "Epoch 247/1000\n",
      "8/8 [==============================] - 0s 19ms/step - loss: 6.7748 - mae: 1.9543 - val_loss: 10.7972 - val_mae: 2.3479\n",
      "Epoch 248/1000\n",
      "8/8 [==============================] - 0s 18ms/step - loss: 6.6681 - mae: 1.9408 - val_loss: 11.0660 - val_mae: 2.3822\n",
      "Epoch 249/1000\n",
      "8/8 [==============================] - 0s 18ms/step - loss: 6.7551 - mae: 1.9636 - val_loss: 11.0377 - val_mae: 2.3800\n",
      "Epoch 250/1000\n",
      "8/8 [==============================] - 0s 20ms/step - loss: 6.6499 - mae: 1.9434 - val_loss: 10.8776 - val_mae: 2.3661\n",
      "Epoch 251/1000\n",
      "8/8 [==============================] - 0s 18ms/step - loss: 6.6958 - mae: 1.9477 - val_loss: 10.8511 - val_mae: 2.3570\n",
      "Epoch 252/1000\n",
      "8/8 [==============================] - 0s 16ms/step - loss: 6.6512 - mae: 1.9344 - val_loss: 11.0825 - val_mae: 2.3800\n",
      "Epoch 253/1000\n",
      "8/8 [==============================] - 0s 19ms/step - loss: 6.6556 - mae: 1.9432 - val_loss: 10.8562 - val_mae: 2.3600\n",
      "Epoch 254/1000\n",
      "8/8 [==============================] - 0s 19ms/step - loss: 6.6224 - mae: 1.9363 - val_loss: 10.9314 - val_mae: 2.3682\n",
      "Epoch 255/1000\n",
      "8/8 [==============================] - 0s 19ms/step - loss: 6.6784 - mae: 1.9450 - val_loss: 10.9784 - val_mae: 2.3772\n"
     ]
    },
    {
     "data": {
      "text/plain": [
       "<keras.callbacks.History at 0x207a817ffd0>"
      ]
     },
     "execution_count": 18,
     "metadata": {},
     "output_type": "execute_result"
    }
   ],
   "source": [
    "model.fit(x=X_train, \n",
    "          y=y_train, \n",
    "          epochs=1000,\n",
    "          validation_split = 0.2,\n",
    "          callbacks=[early_stop]\n",
    "          )\n",
    "# We set aside 20% of our train set for validation. Therefore, our neural network will evaluate the model even before the \n",
    "# test set. We set the epoch value to 1000, but it will stop early if it cannot observe a valuable improvement on the \n",
    "# validation loss/cost."
   ]
  },
  {
   "cell_type": "code",
   "execution_count": 19,
   "metadata": {},
   "outputs": [
    {
     "data": {
      "text/html": [
       "<div>\n",
       "<style scoped>\n",
       "    .dataframe tbody tr th:only-of-type {\n",
       "        vertical-align: middle;\n",
       "    }\n",
       "\n",
       "    .dataframe tbody tr th {\n",
       "        vertical-align: top;\n",
       "    }\n",
       "\n",
       "    .dataframe thead th {\n",
       "        text-align: right;\n",
       "    }\n",
       "</style>\n",
       "<table border=\"1\" class=\"dataframe\">\n",
       "  <thead>\n",
       "    <tr style=\"text-align: right;\">\n",
       "      <th></th>\n",
       "      <th>loss</th>\n",
       "      <th>mae</th>\n",
       "      <th>val_loss</th>\n",
       "      <th>val_mae</th>\n",
       "    </tr>\n",
       "  </thead>\n",
       "  <tbody>\n",
       "    <tr>\n",
       "      <th>0</th>\n",
       "      <td>619.369751</td>\n",
       "      <td>23.593937</td>\n",
       "      <td>596.160217</td>\n",
       "      <td>23.070435</td>\n",
       "    </tr>\n",
       "    <tr>\n",
       "      <th>1</th>\n",
       "      <td>614.449036</td>\n",
       "      <td>23.483778</td>\n",
       "      <td>590.705627</td>\n",
       "      <td>22.946434</td>\n",
       "    </tr>\n",
       "    <tr>\n",
       "      <th>2</th>\n",
       "      <td>608.113220</td>\n",
       "      <td>23.344688</td>\n",
       "      <td>583.442017</td>\n",
       "      <td>22.784773</td>\n",
       "    </tr>\n",
       "    <tr>\n",
       "      <th>3</th>\n",
       "      <td>599.692871</td>\n",
       "      <td>23.163967</td>\n",
       "      <td>574.125977</td>\n",
       "      <td>22.578203</td>\n",
       "    </tr>\n",
       "    <tr>\n",
       "      <th>4</th>\n",
       "      <td>589.278870</td>\n",
       "      <td>22.936329</td>\n",
       "      <td>562.644165</td>\n",
       "      <td>22.321901</td>\n",
       "    </tr>\n",
       "  </tbody>\n",
       "</table>\n",
       "</div>"
      ],
      "text/plain": [
       "         loss        mae    val_loss    val_mae\n",
       "0  619.369751  23.593937  596.160217  23.070435\n",
       "1  614.449036  23.483778  590.705627  22.946434\n",
       "2  608.113220  23.344688  583.442017  22.784773\n",
       "3  599.692871  23.163967  574.125977  22.578203\n",
       "4  589.278870  22.936329  562.644165  22.321901"
      ]
     },
     "execution_count": 19,
     "metadata": {},
     "output_type": "execute_result"
    }
   ],
   "source": [
    "model_loss = pd.DataFrame(model.history.history)\n",
    "model_loss.head()"
   ]
  },
  {
   "cell_type": "code",
   "execution_count": 20,
   "metadata": {},
   "outputs": [
    {
     "data": {
      "image/png": "[encoded data removed]",
      "text/plain": [
       "<Figure size 640x480 with 2 Axes>"
      ]
     },
     "metadata": {},
     "output_type": "display_data"
    }
   ],
   "source": [
    "x = range(len(model_loss))\n",
    "y1 = model_loss[\"loss\"]\n",
    "y11 = model_loss[\"val_loss\"]\n",
    "y2 = model_loss[\"mae\"]\n",
    "y21 = model_loss[\"val_mae\"]\n",
    "\n",
    "\n",
    "fig, ax1 = plt.subplots()\n",
    "\n",
    "ax2 = ax1.twinx()\n",
    "ax1.plot(x, y1, color=\"green\", linestyle=\"dotted\", label=\"loss\")\n",
    "ax1.plot(x, y11, color=\"yellow\", linestyle=\"dashed\", label=\"val loss\")\n",
    "\n",
    "ax2.plot(x, y2, color=\"red\", linestyle=\"dotted\", label=\"mae\")\n",
    "ax2.plot(x, y21, color=\"blue\", linestyle=\"dashed\", label=\"val mae\")\n",
    "\n",
    "\n",
    "\n",
    "ax1.set_xlabel('X data')\n",
    "ax1.set_ylabel('Loss',)\n",
    "ax2.set_ylabel('MAE')\n",
    "plt.legend(loc=\"best\")\n",
    "\n",
    "plt.show()"
   ]
  },
  {
   "cell_type": "markdown",
   "metadata": {},
   "source": [
    "### Evaluating the Results"
   ]
  },
  {
   "cell_type": "code",
   "execution_count": 21,
   "metadata": {},
   "outputs": [
    {
     "data": {
      "text/plain": [
       "[8.258272171020508, 2.0134899616241455]"
      ]
     },
     "execution_count": 21,
     "metadata": {},
     "output_type": "execute_result"
    }
   ],
   "source": [
    "model.evaluate(X_test, y_test, verbose=0)"
   ]
  },
  {
   "cell_type": "code",
   "execution_count": 22,
   "metadata": {},
   "outputs": [
    {
     "name": "stdout",
     "output_type": "stream",
     "text": [
      "3/3 [==============================] - 0s 0s/step\n"
     ]
    },
    {
     "data": {
      "text/plain": [
       "[<matplotlib.lines.Line2D at 0x207aa5a45e0>]"
      ]
     },
     "execution_count": 22,
     "metadata": {},
     "output_type": "execute_result"
    },
    {
     "data": {
      "image/png": "[encoded data removed]",
      "text/plain": [
       "<Figure size 640x480 with 1 Axes>"
      ]
     },
     "metadata": {},
     "output_type": "display_data"
    }
   ],
   "source": [
    "y_pred = model.predict(X_test).flatten()\n",
    "\n",
    "evaluation_plot = plt.axes(aspect='equal')\n",
    "plt.scatter(y_test, y_pred)#Scatter Plot\n",
    "plt.ylabel('Predictions [mpg]')#Y for Predictions\n",
    "plt.xlabel('Actual Values [mpg]')#X for Actual Values\n",
    "plt.xlim([0, 50])\n",
    "plt.ylim([0, 50])\n",
    "plt.plot([0, 50], [0, 50]) #line plot for comparison"
   ]
  },
  {
   "cell_type": "markdown",
   "metadata": {},
   "source": [
    "### Making Predictions with a New Observation"
   ]
  },
  {
   "cell_type": "code",
   "execution_count": 23,
   "metadata": {},
   "outputs": [
    {
     "name": "stdout",
     "output_type": "stream",
     "text": [
      "1/1 [==============================] - 0s 24ms/step\n"
     ]
    },
    {
     "data": {
      "text/plain": [
       "array([[11.640239]], dtype=float32)"
      ]
     },
     "execution_count": 23,
     "metadata": {},
     "output_type": "execute_result"
    }
   ],
   "source": [
    "# Prediction for Single Observation\n",
    "# What is the MPG of a car with the following info:\n",
    "\n",
    "new_car = np.array([[\n",
    "    8, #cylinders\n",
    "    307.0, #displacement\n",
    "    130.0, #HP\n",
    "    5504.0, #weight\n",
    "    12.0, #acceleration\n",
    "    70, #modelyear\n",
    "    0, #USA\n",
    "    0, # Japan\n",
    "]])\n",
    "\n",
    "new_car = scaler.transform(new_car)\n",
    "\n",
    "model.predict(new_car)"
   ]
  }
 ],
 "metadata": {
  "kernelspec": {
   "display_name": "Python 3.9.12 ('base')",
   "language": "python",
   "name": "python3"
  },
  "language_info": {
   "codemirror_mode": {
    "name": "ipython",
    "version": 3
   },
   "file_extension": ".py",
   "mimetype": "text/x-python",
   "name": "python",
   "nbconvert_exporter": "python",
   "pygments_lexer": "ipython3",
   "version": "3.9.13"
  },
  "orig_nbformat": 4,
  "vscode": {
   "interpreter": {
    "hash": "20a9e06a1eee47c4abbed4ec8225ad91d78d9800d202b71b6b0a6e47016c6abd"
   }
  }
 },
 "nbformat": 4,
 "nbformat_minor": 2
}
