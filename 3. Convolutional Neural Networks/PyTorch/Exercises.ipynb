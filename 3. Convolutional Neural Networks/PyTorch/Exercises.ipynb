{
 "cells": [
  {
   "cell_type": "markdown",
   "metadata": {},
   "source": [
    "## <center> CNN Exercise - Fashion MNIST </center>\n",
    "\n",
    "\n",
    "### The Challenge\n",
    "\n",
    "Your task is to build an image classifier with Keras and Convolutional Neural Networks for the Fashion MNIST dataset. This data set includes 10 labels of different clothing types with 28 by 28 *grayscale* images. There is a training set of 60,000 images and 10,000 test images.\n",
    "\n",
    "    Label\tDescription\n",
    "    0\t    T-shirt/top\n",
    "    1\t    Trouser\n",
    "    2\t    Pullover\n",
    "    3\t    Dress\n",
    "    4\t    Coat\n",
    "    5\t    Sandal\n",
    "    6\t    Shirt\n",
    "    7\t    Sneaker\n",
    "    8\t    Bag\n",
    "    9\t    Ankle boot\n",
    "    "
   ]
  },
  {
   "cell_type": "code",
   "execution_count": 34,
   "metadata": {
    "collapsed": true
   },
   "outputs": [],
   "source": [
    "import torch\n",
    "import torch.nn as nn\n",
    "import torch.nn.functional as F\n",
    "from torch.utils.data import DataLoader\n",
    "from torchvision import datasets, transforms\n",
    "from torchvision.utils import make_grid\n",
    "\n",
    "import numpy as np\n",
    "import pandas as pd\n",
    "from sklearn.metrics import confusion_matrix\n",
    "import matplotlib.pyplot as plt\n",
    "import seaborn as sn"
   ]
  },
  {
   "cell_type": "code",
   "execution_count": 2,
   "metadata": {},
   "outputs": [],
   "source": [
    "transform = transforms.ToTensor()\n",
    "\n",
    "train_data = datasets.FashionMNIST(root='C:/Users/Lenovo/Desktop/Python/Deep Learnng/Data Sets', train=True, download=True, transform=transform)\n",
    "test_data = datasets.FashionMNIST(root='C:/Users/Lenovo/Desktop/Python/Deep Learning/Data Sets', train=False, download=True, transform=transform)"
   ]
  },
  {
   "cell_type": "code",
   "execution_count": 3,
   "metadata": {},
   "outputs": [
    {
     "data": {
      "text/plain": [
       "Dataset FashionMNIST\n",
       "    Number of datapoints: 60000\n",
       "    Split: train\n",
       "    Root Location: C:/Users/Lenovo/Desktop/Python/Neural Networks/Data Sets\n",
       "    Transforms (if any): ToTensor()\n",
       "    Target Transforms (if any): None"
      ]
     },
     "execution_count": 3,
     "metadata": {},
     "output_type": "execute_result"
    }
   ],
   "source": [
    "train_data"
   ]
  },
  {
   "cell_type": "code",
   "execution_count": 4,
   "metadata": {},
   "outputs": [
    {
     "data": {
      "text/plain": [
       "Dataset FashionMNIST\n",
       "    Number of datapoints: 10000\n",
       "    Split: test\n",
       "    Root Location: C:/Users/Lenovo/Desktop/Python/Neural Networks/Data Sets\n",
       "    Transforms (if any): ToTensor()\n",
       "    Target Transforms (if any): None"
      ]
     },
     "execution_count": 4,
     "metadata": {},
     "output_type": "execute_result"
    }
   ],
   "source": [
    "test_data"
   ]
  },
  {
   "cell_type": "code",
   "execution_count": 5,
   "metadata": {},
   "outputs": [],
   "source": [
    "class_names = ['T-shirt','Trouser','Sweater','Dress','Coat','Sandal','Shirt','Sneaker','Bag','Boot']"
   ]
  },
  {
   "cell_type": "markdown",
   "metadata": {},
   "source": [
    "**TASK: Use DataLoader to create a <tt>train_loader</tt> and a <tt>test_loader</tt>. Batch sizes should be 10 for both.**"
   ]
  },
  {
   "cell_type": "code",
   "execution_count": 6,
   "metadata": {
    "collapsed": true
   },
   "outputs": [],
   "source": [
    "train_loader = DataLoader(train_data, batch_size=10, shuffle=True)\n",
    "test_loader = DataLoader(test_data, batch_size=10, shuffle=False)"
   ]
  },
  {
   "cell_type": "markdown",
   "metadata": {},
   "source": [
    "**TASK: Use DataLoader, <tt>make_grid</tt> and matplotlib to display the first batch of 10 images.**"
   ]
  },
  {
   "cell_type": "code",
   "execution_count": 7,
   "metadata": {
    "collapsed": true
   },
   "outputs": [
    {
     "name": "stdout",
     "output_type": "stream",
     "text": [
      "tensor([2, 9, 8, 7, 3, 5, 5, 0, 0, 0])\n",
      "['Sweater', 'Boot', 'Bag', 'Sneaker', 'Dress', 'Sandal', 'Sandal', 'T-shirt', 'T-shirt', 'T-shirt']\n"
     ]
    },
    {
     "data": {
      "image/png": "[encoded data removed]",
      "text/plain": [
       "<Figure size 720x288 with 1 Axes>"
      ]
     },
     "metadata": {
      "needs_background": "light"
     },
     "output_type": "display_data"
    }
   ],
   "source": [
    "for images,labels in train_loader: \n",
    "    break\n",
    "\n",
    "print(labels)\n",
    "print([class_names[label] for label in labels])\n",
    "im = make_grid(images[:10], nrow=10)\n",
    "plt.figure(figsize=(10,4))\n",
    "plt.imshow(np.transpose(im.numpy(), (1, 2, 0)));"
   ]
  },
  {
   "cell_type": "markdown",
   "metadata": {},
   "source": [
    "**TASK**\n",
    "\n",
    "\n",
    "Define a CNN model that can be trained on the Fashion-MNIST dataset. The model should contain two convolutional layers, two pooling layers, and two fully connected layers. You can use any number of neurons per layer so long as the model takes in a 28x28 image and returns an output of 10. Portions of the definition have been filled in for convenience."
   ]
  },
  {
   "cell_type": "code",
   "execution_count": 8,
   "metadata": {},
   "outputs": [],
   "source": [
    "conv1 = nn.Conv2d(1, 16, kernel_size=3, stride=1, padding=0)\n",
    "conv2 = nn.Conv2d(16, 25, kernel_size=2, stride=1, padding=0)\n",
    "\n",
    "pool1 = nn.MaxPool2d(kernel_size=2, stride=2)\n",
    "pool2 = nn.MaxPool2d(kernel_size=2, stride=2)\n",
    "\n",
    "convs = [conv1, conv2]\n",
    "pools = [pool1, pool2]\n",
    "\n",
    "\n",
    "def in_calculator(x, val):\n",
    "    mult = val\n",
    "    for ind, conv in enumerate(convs):\n",
    "        x = conv(x)\n",
    "        pool = pools[ind]\n",
    "        x = pool(x)\n",
    "    \n",
    "    lis = list(x.shape)\n",
    "    mult *= lis[-2]\n",
    "    mult *= lis[-1]\n",
    "    \n",
    "    return mult\n",
    "\n",
    "in_val = in_calculator(images, 25)\n",
    "\n"
   ]
  },
  {
   "cell_type": "code",
   "execution_count": 9,
   "metadata": {},
   "outputs": [],
   "source": [
    "class CNNNet(nn.Module):\n",
    "\n",
    "    def __init__(self, in_val=in_val, num_classes=10):\n",
    "        super(CNNNet, self).__init__()\n",
    "\n",
    "        self.features = nn.Sequential(\n",
    "            nn.Conv2d(1, 16, kernel_size=3, stride=1, padding=0),\n",
    "            nn.ReLU(),\n",
    "            nn.MaxPool2d(kernel_size=2, stride=2),\n",
    "\n",
    "            nn.Conv2d(16, 25, kernel_size=2, stride=1, padding=0),\n",
    "            nn.ReLU(),\n",
    "            nn.MaxPool2d(kernel_size=2, stride=2),\n",
    "        )\n",
    "\n",
    "        self.classifier = nn.Sequential(\n",
    "            nn.Linear(in_val, 120),\n",
    "            nn.ReLU(),\n",
    "\n",
    "            nn.Linear(120, 84),\n",
    "            nn.ReLU(),\n",
    "            \n",
    "            nn.Linear(84, num_classes)\n",
    "        )\n",
    "\n",
    "\n",
    "    def forward(self, x):\n",
    "        x = self.features(x)\n",
    "        x = torch.flatten(x, 1)\n",
    "        x = self.classifier(x)\n",
    "        return F.log_softmax(x, dim=1)"
   ]
  },
  {
   "cell_type": "code",
   "execution_count": 10,
   "metadata": {},
   "outputs": [
    {
     "data": {
      "text/plain": [
       "CNNNet(\n",
       "  (features): Sequential(\n",
       "    (0): Conv2d(1, 16, kernel_size=(3, 3), stride=(1, 1))\n",
       "    (1): ReLU()\n",
       "    (2): MaxPool2d(kernel_size=2, stride=2, padding=0, dilation=1, ceil_mode=False)\n",
       "    (3): Conv2d(16, 25, kernel_size=(2, 2), stride=(1, 1))\n",
       "    (4): ReLU()\n",
       "    (5): MaxPool2d(kernel_size=2, stride=2, padding=0, dilation=1, ceil_mode=False)\n",
       "  )\n",
       "  (classifier): Sequential(\n",
       "    (0): Dropout(p=0.5)\n",
       "    (1): Linear(in_features=900, out_features=120, bias=True)\n",
       "    (2): ReLU()\n",
       "    (3): Dropout(p=0.5)\n",
       "    (4): Linear(in_features=120, out_features=84, bias=True)\n",
       "    (5): ReLU()\n",
       "    (6): Linear(in_features=84, out_features=10, bias=True)\n",
       "  )\n",
       ")"
      ]
     },
     "execution_count": 10,
     "metadata": {},
     "output_type": "execute_result"
    }
   ],
   "source": [
    "torch.manual_seed(42)\n",
    "model = CNNNet()\n",
    "criterion = nn.CrossEntropyLoss()\n",
    "optimizer = torch.optim.Adam(model.parameters(), lr=0.001)\n",
    "\n",
    "model"
   ]
  },
  {
   "cell_type": "markdown",
   "metadata": {},
   "source": [
    "**TASK: What is the total number of trainable parameters (weights & biases) in the model above?**"
   ]
  },
  {
   "cell_type": "code",
   "execution_count": 11,
   "metadata": {
    "collapsed": true
   },
   "outputs": [
    {
     "name": "stdout",
     "output_type": "stream",
     "text": [
      "144\n",
      "16\n",
      "1600\n",
      "25\n",
      "108000\n",
      "120\n",
      "10080\n",
      "84\n",
      "840\n",
      "10\n",
      "-------\n"
     ]
    },
    {
     "data": {
      "text/plain": [
       "120919"
      ]
     },
     "execution_count": 11,
     "metadata": {},
     "output_type": "execute_result"
    }
   ],
   "source": [
    "tot = 0\n",
    "for param in model.parameters():\n",
    "    print(param.numel())\n",
    "    tot += param.numel()\n",
    "\n",
    "print(\"-------\")\n",
    "\n",
    "tot"
   ]
  },
  {
   "cell_type": "markdown",
   "metadata": {},
   "source": [
    "**TASK: Train the model**"
   ]
  },
  {
   "cell_type": "code",
   "execution_count": 12,
   "metadata": {
    "collapsed": true
   },
   "outputs": [
    {
     "name": "stdout",
     "output_type": "stream",
     "text": [
      "epoch:  0  batch:  600 [  6000/60000]  loss: 0.92631948  accuracy:  55.617%\n",
      "epoch:  0  batch: 1200 [ 12000/60000]  loss: 0.60383505  accuracy:  63.767%\n",
      "epoch:  0  batch: 1800 [ 18000/60000]  loss: 1.12108660  accuracy:  67.211%\n",
      "epoch:  0  batch: 2400 [ 24000/60000]  loss: 0.32326961  accuracy:  69.546%\n",
      "epoch:  0  batch: 3000 [ 30000/60000]  loss: 0.26291472  accuracy:  70.667%\n",
      "epoch:  0  batch: 3600 [ 36000/60000]  loss: 0.45802394  accuracy:  71.775%\n",
      "epoch:  0  batch: 4200 [ 42000/60000]  loss: 1.18401456  accuracy:  72.552%\n",
      "epoch:  0  batch: 4800 [ 48000/60000]  loss: 0.77519542  accuracy:  73.233%\n",
      "epoch:  0  batch: 5400 [ 54000/60000]  loss: 0.50687701  accuracy:  73.880%\n",
      "epoch:  0  batch: 6000 [ 60000/60000]  loss: 0.32643509  accuracy:  74.388%\n",
      "epoch:  1  batch:  600 [  6000/60000]  loss: 0.23070547  accuracy:  80.567%\n",
      "epoch:  1  batch: 1200 [ 12000/60000]  loss: 0.48686528  accuracy:  80.492%\n",
      "epoch:  1  batch: 1800 [ 18000/60000]  loss: 0.27427000  accuracy:  80.822%\n",
      "epoch:  1  batch: 2400 [ 24000/60000]  loss: 0.45535269  accuracy:  80.917%\n",
      "epoch:  1  batch: 3000 [ 30000/60000]  loss: 1.57935297  accuracy:  80.783%\n",
      "epoch:  1  batch: 3600 [ 36000/60000]  loss: 0.29040131  accuracy:  81.042%\n",
      "epoch:  1  batch: 4200 [ 42000/60000]  loss: 0.30037031  accuracy:  81.043%\n",
      "epoch:  1  batch: 4800 [ 48000/60000]  loss: 0.53417712  accuracy:  81.119%\n",
      "epoch:  1  batch: 5400 [ 54000/60000]  loss: 0.28565606  accuracy:  81.235%\n",
      "epoch:  1  batch: 6000 [ 60000/60000]  loss: 0.18378876  accuracy:  81.275%\n",
      "epoch:  2  batch:  600 [  6000/60000]  loss: 0.82075089  accuracy:  82.633%\n",
      "epoch:  2  batch: 1200 [ 12000/60000]  loss: 0.86737120  accuracy:  82.867%\n",
      "epoch:  2  batch: 1800 [ 18000/60000]  loss: 0.47620338  accuracy:  83.122%\n",
      "epoch:  2  batch: 2400 [ 24000/60000]  loss: 0.17268297  accuracy:  83.138%\n",
      "epoch:  2  batch: 3000 [ 30000/60000]  loss: 0.40591389  accuracy:  83.277%\n",
      "epoch:  2  batch: 3600 [ 36000/60000]  loss: 0.21090856  accuracy:  83.272%\n",
      "epoch:  2  batch: 4200 [ 42000/60000]  loss: 0.30506229  accuracy:  83.329%\n",
      "epoch:  2  batch: 4800 [ 48000/60000]  loss: 0.41373402  accuracy:  83.304%\n",
      "epoch:  2  batch: 5400 [ 54000/60000]  loss: 0.09636979  accuracy:  83.446%\n",
      "epoch:  2  batch: 6000 [ 60000/60000]  loss: 0.22178774  accuracy:  83.427%\n",
      "epoch:  3  batch:  600 [  6000/60000]  loss: 0.77985126  accuracy:  83.900%\n",
      "epoch:  3  batch: 1200 [ 12000/60000]  loss: 0.36552638  accuracy:  83.933%\n",
      "epoch:  3  batch: 1800 [ 18000/60000]  loss: 1.09187150  accuracy:  83.806%\n",
      "epoch:  3  batch: 2400 [ 24000/60000]  loss: 0.68177831  accuracy:  84.058%\n",
      "epoch:  3  batch: 3000 [ 30000/60000]  loss: 0.29762909  accuracy:  84.147%\n",
      "epoch:  3  batch: 3600 [ 36000/60000]  loss: 0.17935076  accuracy:  84.136%\n",
      "epoch:  3  batch: 4200 [ 42000/60000]  loss: 0.38001138  accuracy:  84.217%\n",
      "epoch:  3  batch: 4800 [ 48000/60000]  loss: 0.23050144  accuracy:  84.233%\n",
      "epoch:  3  batch: 5400 [ 54000/60000]  loss: 0.44937974  accuracy:  84.280%\n",
      "epoch:  3  batch: 6000 [ 60000/60000]  loss: 0.35770062  accuracy:  84.365%\n",
      "epoch:  4  batch:  600 [  6000/60000]  loss: 0.31642726  accuracy:  85.417%\n",
      "epoch:  4  batch: 1200 [ 12000/60000]  loss: 0.42456341  accuracy:  85.275%\n",
      "epoch:  4  batch: 1800 [ 18000/60000]  loss: 0.68339694  accuracy:  84.967%\n",
      "epoch:  4  batch: 2400 [ 24000/60000]  loss: 0.46132398  accuracy:  85.046%\n",
      "epoch:  4  batch: 3000 [ 30000/60000]  loss: 0.17759374  accuracy:  85.003%\n",
      "epoch:  4  batch: 3600 [ 36000/60000]  loss: 0.29874894  accuracy:  85.100%\n",
      "epoch:  4  batch: 4200 [ 42000/60000]  loss: 0.09235115  accuracy:  85.093%\n",
      "epoch:  4  batch: 4800 [ 48000/60000]  loss: 0.49961805  accuracy:  85.108%\n",
      "epoch:  4  batch: 5400 [ 54000/60000]  loss: 0.27751037  accuracy:  85.233%\n",
      "epoch:  4  batch: 6000 [ 60000/60000]  loss: 0.29208046  accuracy:  85.262%\n",
      "epoch:  5  batch:  600 [  6000/60000]  loss: 0.52926219  accuracy:  85.717%\n",
      "epoch:  5  batch: 1200 [ 12000/60000]  loss: 0.98260927  accuracy:  85.350%\n",
      "epoch:  5  batch: 1800 [ 18000/60000]  loss: 0.43390432  accuracy:  85.500%\n",
      "epoch:  5  batch: 2400 [ 24000/60000]  loss: 0.29045987  accuracy:  85.625%\n",
      "epoch:  5  batch: 3000 [ 30000/60000]  loss: 0.24839993  accuracy:  85.783%\n",
      "epoch:  5  batch: 3600 [ 36000/60000]  loss: 0.55953056  accuracy:  85.714%\n",
      "epoch:  5  batch: 4200 [ 42000/60000]  loss: 0.58970332  accuracy:  85.748%\n",
      "epoch:  5  batch: 4800 [ 48000/60000]  loss: 0.27997032  accuracy:  85.652%\n",
      "epoch:  5  batch: 5400 [ 54000/60000]  loss: 0.25243765  accuracy:  85.643%\n",
      "epoch:  5  batch: 6000 [ 60000/60000]  loss: 0.54546720  accuracy:  85.585%\n",
      "epoch:  6  batch:  600 [  6000/60000]  loss: 0.14958408  accuracy:  87.050%\n",
      "epoch:  6  batch: 1200 [ 12000/60000]  loss: 0.13579001  accuracy:  86.467%\n",
      "epoch:  6  batch: 1800 [ 18000/60000]  loss: 0.52251136  accuracy:  86.156%\n",
      "epoch:  6  batch: 2400 [ 24000/60000]  loss: 0.82200080  accuracy:  86.179%\n",
      "epoch:  6  batch: 3000 [ 30000/60000]  loss: 0.87917268  accuracy:  86.320%\n",
      "epoch:  6  batch: 3600 [ 36000/60000]  loss: 0.52713794  accuracy:  86.164%\n",
      "epoch:  6  batch: 4200 [ 42000/60000]  loss: 0.19278277  accuracy:  86.131%\n",
      "epoch:  6  batch: 4800 [ 48000/60000]  loss: 0.59047753  accuracy:  86.048%\n",
      "epoch:  6  batch: 5400 [ 54000/60000]  loss: 0.33918539  accuracy:  86.102%\n",
      "epoch:  6  batch: 6000 [ 60000/60000]  loss: 0.39123589  accuracy:  86.203%\n",
      "epoch:  7  batch:  600 [  6000/60000]  loss: 0.51267719  accuracy:  86.233%\n",
      "epoch:  7  batch: 1200 [ 12000/60000]  loss: 0.89842081  accuracy:  86.183%\n",
      "epoch:  7  batch: 1800 [ 18000/60000]  loss: 0.44960198  accuracy:  86.289%\n",
      "epoch:  7  batch: 2400 [ 24000/60000]  loss: 0.56998193  accuracy:  86.475%\n",
      "epoch:  7  batch: 3000 [ 30000/60000]  loss: 0.30190921  accuracy:  86.443%\n",
      "epoch:  7  batch: 3600 [ 36000/60000]  loss: 0.37228975  accuracy:  86.383%\n",
      "epoch:  7  batch: 4200 [ 42000/60000]  loss: 0.63051492  accuracy:  86.390%\n",
      "epoch:  7  batch: 4800 [ 48000/60000]  loss: 0.43225423  accuracy:  86.381%\n",
      "epoch:  7  batch: 5400 [ 54000/60000]  loss: 0.19638816  accuracy:  86.402%\n",
      "epoch:  7  batch: 6000 [ 60000/60000]  loss: 0.11500625  accuracy:  86.382%\n",
      "epoch:  8  batch:  600 [  6000/60000]  loss: 0.32088986  accuracy:  86.500%\n",
      "epoch:  8  batch: 1200 [ 12000/60000]  loss: 0.33968428  accuracy:  86.625%\n",
      "epoch:  8  batch: 1800 [ 18000/60000]  loss: 0.08289661  accuracy:  86.639%\n",
      "epoch:  8  batch: 2400 [ 24000/60000]  loss: 0.41163212  accuracy:  86.758%\n",
      "epoch:  8  batch: 3000 [ 30000/60000]  loss: 0.19562879  accuracy:  86.593%\n",
      "epoch:  8  batch: 3600 [ 36000/60000]  loss: 0.08842843  accuracy:  86.717%\n",
      "epoch:  8  batch: 4200 [ 42000/60000]  loss: 0.43435797  accuracy:  86.695%\n",
      "epoch:  8  batch: 4800 [ 48000/60000]  loss: 0.88368034  accuracy:  86.606%\n",
      "epoch:  8  batch: 5400 [ 54000/60000]  loss: 0.12522876  accuracy:  86.567%\n",
      "epoch:  8  batch: 6000 [ 60000/60000]  loss: 0.18232867  accuracy:  86.658%\n",
      "epoch:  9  batch:  600 [  6000/60000]  loss: 1.26889348  accuracy:  86.750%\n",
      "epoch:  9  batch: 1200 [ 12000/60000]  loss: 0.15894380  accuracy:  86.617%\n",
      "epoch:  9  batch: 1800 [ 18000/60000]  loss: 0.15619922  accuracy:  86.789%\n",
      "epoch:  9  batch: 2400 [ 24000/60000]  loss: 0.87340671  accuracy:  86.662%\n",
      "epoch:  9  batch: 3000 [ 30000/60000]  loss: 0.06085522  accuracy:  86.693%\n",
      "epoch:  9  batch: 3600 [ 36000/60000]  loss: 0.79619330  accuracy:  86.603%\n",
      "epoch:  9  batch: 4200 [ 42000/60000]  loss: 0.01922017  accuracy:  86.638%\n",
      "epoch:  9  batch: 4800 [ 48000/60000]  loss: 0.43742198  accuracy:  86.700%\n",
      "epoch:  9  batch: 5400 [ 54000/60000]  loss: 0.61555129  accuracy:  86.724%\n",
      "epoch:  9  batch: 6000 [ 60000/60000]  loss: 0.02810698  accuracy:  86.757%\n"
     ]
    }
   ],
   "source": [
    "epochs = 10\n",
    "train_losses = []\n",
    "test_losses = []\n",
    "train_correct = []\n",
    "test_correct = []\n",
    "\n",
    "for i in range(epochs):\n",
    "    trn_corr = 0\n",
    "    tst_corr = 0\n",
    "    \n",
    "    # Run the training batches\n",
    "    for b, (X_train, y_train) in enumerate(train_loader):\n",
    "        b+=1\n",
    "        \n",
    "        # Apply the model\n",
    "        y_pred = model(X_train)  # we don't flatten X-train here\n",
    "        loss = criterion(y_pred, y_train)\n",
    " \n",
    "        # Tally the number of correct predictions\n",
    "        predicted = torch.max(y_pred.data, 1)[1]\n",
    "        batch_corr = (predicted == y_train).sum()\n",
    "        trn_corr += batch_corr\n",
    "        \n",
    "        # Update parameters\n",
    "        optimizer.zero_grad()\n",
    "        loss.backward()\n",
    "        optimizer.step()\n",
    "        \n",
    "        # Print interim results\n",
    "        if b%600 == 0:\n",
    "            print(f'epoch: {i:2}  batch: {b:4} [{10*b:6}/60000]  loss: {loss.item():10.8f}  \\\n",
    "accuracy: {trn_corr.item()*100/(10*b):7.3f}%')\n",
    "        \n",
    "    train_losses.append(loss.item())\n",
    "    train_correct.append(trn_corr)\n",
    "        \n",
    "    # Run the testing batches\n",
    "    with torch.no_grad():\n",
    "        for b, (X_test, y_test) in enumerate(test_loader):\n",
    "\n",
    "            # Apply the model\n",
    "            y_val = model(X_test)\n",
    "\n",
    "            # Tally the number of correct predictions\n",
    "            predicted = torch.max(y_val.data, 1)[1] \n",
    "            tst_corr += (predicted == y_test).sum()\n",
    "            \n",
    "    loss = criterion(y_val, y_test)\n",
    "    test_losses.append(loss.item())\n",
    "    test_correct.append(tst_corr)"
   ]
  },
  {
   "cell_type": "markdown",
   "metadata": {},
   "source": [
    "**TASK: Display the different graphs and the evaluation of the model**"
   ]
  },
  {
   "cell_type": "code",
   "execution_count": 14,
   "metadata": {},
   "outputs": [
    {
     "data": {
      "image/png": "[encoded data removed]",
      "text/plain": [
       "<Figure size 432x288 with 1 Axes>"
      ]
     },
     "metadata": {
      "needs_background": "light"
     },
     "output_type": "display_data"
    }
   ],
   "source": [
    "plt.plot(train_losses, label='training loss')\n",
    "plt.plot(test_losses, label='validation loss')\n",
    "plt.title('Loss at the end of each epoch')\n",
    "plt.legend();"
   ]
  },
  {
   "cell_type": "code",
   "execution_count": 15,
   "metadata": {},
   "outputs": [
    {
     "data": {
      "text/plain": [
       "[0.29331550002098083,\n",
       " 0.40242260694503784,\n",
       " 0.0980585366487503,\n",
       " 0.09170635044574738,\n",
       " 0.0946388691663742,\n",
       " 0.2852928936481476,\n",
       " 0.2692587971687317,\n",
       " 0.31533557176589966,\n",
       " 0.06487570703029633,\n",
       " 0.4366435110569]"
      ]
     },
     "execution_count": 15,
     "metadata": {},
     "output_type": "execute_result"
    }
   ],
   "source": [
    "test_losses"
   ]
  },
  {
   "cell_type": "code",
   "execution_count": 16,
   "metadata": {},
   "outputs": [
    {
     "data": {
      "image/png": "[encoded data removed]",
      "text/plain": [
       "<Figure size 432x288 with 1 Axes>"
      ]
     },
     "metadata": {
      "needs_background": "light"
     },
     "output_type": "display_data"
    }
   ],
   "source": [
    "plt.plot([t/600 for t in train_correct], label='training accuracy')\n",
    "plt.plot([t/100 for t in test_correct], label='validation accuracy')\n",
    "plt.title('Accuracy at the end of each epoch')\n",
    "plt.legend();"
   ]
  },
  {
   "cell_type": "code",
   "execution_count": 17,
   "metadata": {},
   "outputs": [
    {
     "name": "stdout",
     "output_type": "stream",
     "text": [
      "Test accuracy: 8565/10000 =  85.650%\n"
     ]
    }
   ],
   "source": [
    "test_load_all = DataLoader(test_data, batch_size=10000, shuffle=False)\n",
    "\n",
    "with torch.no_grad():\n",
    "    correct = 0\n",
    "    for X_test, y_test in test_load_all:\n",
    "        y_val = model(X_test)  # we don't flatten the data this time\n",
    "        predicted = torch.max(y_val,1)[1]\n",
    "        correct += (predicted == y_test).sum()\n",
    "print(f'Test accuracy: {correct.item()}/{len(test_data)} = {correct.item()*100/(len(test_data)):7.3f}%')"
   ]
  },
  {
   "cell_type": "code",
   "execution_count": 37,
   "metadata": {},
   "outputs": [
    {
     "data": {
      "image/png": "[encoded data removed]",
      "text/plain": [
       "<Figure size 648x432 with 2 Axes>"
      ]
     },
     "metadata": {
      "needs_background": "light"
     },
     "output_type": "display_data"
    }
   ],
   "source": [
    "arr = confusion_matrix(y_test.view(-1), predicted.view(-1))\n",
    "df_cm = pd.DataFrame(arr, class_names, class_names)\n",
    "plt.figure(figsize = (9,6))\n",
    "sn.heatmap(df_cm, annot=True, fmt=\"d\", cmap='BuGn')\n",
    "plt.xlabel(\"prediction\")\n",
    "plt.ylabel(\"label (ground truth)\")\n",
    "plt.show();"
   ]
  }
 ],
 "metadata": {
  "kernelspec": {
   "display_name": "Python 3.7.3 ('pytorchenv')",
   "language": "python",
   "name": "python3"
  },
  "language_info": {
   "codemirror_mode": {
    "name": "ipython",
    "version": 3
   },
   "file_extension": ".py",
   "mimetype": "text/x-python",
   "name": "python",
   "nbconvert_exporter": "python",
   "pygments_lexer": "ipython3",
   "version": "3.7.3"
  },
  "vscode": {
   "interpreter": {
    "hash": "d2844142bb07d73a214d96737b2c623458c43f59df188e7e149346c31d83c928"
   }
  }
 },
 "nbformat": 4,
 "nbformat_minor": 2
}
