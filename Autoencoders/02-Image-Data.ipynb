{
 "cells": [
  {
   "cell_type": "markdown",
   "metadata": {},
   "source": [
    "## <center>AutoEncoders on Image Data</center>"
   ]
  },
  {
   "cell_type": "code",
   "execution_count": 1,
   "metadata": {},
   "outputs": [],
   "source": [
    "import pandas as pd\n",
    "import numpy as np\n",
    "import matplotlib.pyplot as plt\n",
    "\n",
    "from tensorflow.keras.datasets import mnist\n",
    "from tensorflow.keras.models import Sequential\n",
    "from tensorflow.keras.layers import Dense,Flatten,Reshape\n",
    "from tensorflow.keras.optimizers import SGD"
   ]
  },
  {
   "cell_type": "code",
   "execution_count": 2,
   "metadata": {},
   "outputs": [],
   "source": [
    "(X_train, y_train), (X_test, y_test) = mnist.load_data()"
   ]
  },
  {
   "cell_type": "code",
   "execution_count": 3,
   "metadata": {},
   "outputs": [
    {
     "data": {
      "text/plain": [
       "<matplotlib.image.AxesImage at 0x209a9b01a90>"
      ]
     },
     "execution_count": 3,
     "metadata": {},
     "output_type": "execute_result"
    },
    {
     "data": {
      "image/png": "[encoded data removed]",
      "text/plain": [
       "<Figure size 432x288 with 1 Axes>"
      ]
     },
     "metadata": {
      "needs_background": "light"
     },
     "output_type": "display_data"
    }
   ],
   "source": [
    "plt.imshow(X_train[0], cmap=\"Greys\")"
   ]
  },
  {
   "cell_type": "code",
   "execution_count": 4,
   "metadata": {},
   "outputs": [],
   "source": [
    "# Scaling the data\n",
    "X_train = X_train/255\n",
    "X_test = X_test/255"
   ]
  },
  {
   "cell_type": "markdown",
   "metadata": {},
   "source": [
    "### Basic AutoEncoder\n",
    "\n",
    "In this section, a stacked AutoEncoder will be built. The method for it's construction is the following:\n",
    "\n",
    "- Start with the flattened image 28x28 --> 784\n",
    "- Add layers with half of the neurons of the previous till reaching a small value "
   ]
  },
  {
   "cell_type": "code",
   "execution_count": 5,
   "metadata": {},
   "outputs": [],
   "source": [
    "encoder = Sequential()\n",
    "encoder.add(Flatten(input_shape=[28,28]))\n",
    "encoder.add(Dense(784,activation=\"relu\"))\n",
    "encoder.add(Dense(400,activation=\"relu\"))\n",
    "encoder.add(Dense(200,activation=\"relu\"))\n",
    "encoder.add(Dense(100,activation=\"relu\"))\n",
    "encoder.add(Dense(50,activation=\"relu\"))\n",
    "encoder.add(Dense(25,activation=\"relu\"))"
   ]
  },
  {
   "cell_type": "code",
   "execution_count": 6,
   "metadata": {},
   "outputs": [],
   "source": [
    "decoder = Sequential()\n",
    "decoder.add(Dense(50,input_shape=[25],activation='relu'))\n",
    "decoder.add(Dense(100,activation='relu'))\n",
    "decoder.add(Dense(200,activation='relu'))\n",
    "decoder.add(Dense(400,activation='relu'))\n",
    "decoder.add(Dense(784, activation=\"sigmoid\"))\n",
    "decoder.add(Reshape([28, 28]))"
   ]
  },
  {
   "cell_type": "code",
   "execution_count": 7,
   "metadata": {},
   "outputs": [],
   "source": [
    "autoencoder = Sequential([encoder, decoder])\n",
    "autoencoder.compile(loss=\"binary_crossentropy\",optimizer=SGD(learning_rate=1.5),metrics=['accuracy'])\n",
    "# In this case, binary crossentropy is used, it doesn't care about the different classes, \n",
    "# it cares about the outputed images, if they are the same as the ones inputed "
   ]
  },
  {
   "cell_type": "code",
   "execution_count": 8,
   "metadata": {},
   "outputs": [
    {
     "name": "stdout",
     "output_type": "stream",
     "text": [
      "Epoch 1/5\n",
      "1875/1875 [==============================] - 13s 7ms/step - loss: 0.2553 - accuracy: 0.0818 - val_loss: 0.2253 - val_accuracy: 0.1107\n",
      "Epoch 2/5\n",
      "1875/1875 [==============================] - 13s 7ms/step - loss: 0.2042 - accuracy: 0.1394 - val_loss: 0.1837 - val_accuracy: 0.1604\n",
      "Epoch 3/5\n",
      "1875/1875 [==============================] - 13s 7ms/step - loss: 0.1721 - accuracy: 0.1798 - val_loss: 0.1580 - val_accuracy: 0.1951\n",
      "Epoch 4/5\n",
      "1875/1875 [==============================] - 13s 7ms/step - loss: 0.1544 - accuracy: 0.2046 - val_loss: 0.1464 - val_accuracy: 0.2100\n",
      "Epoch 5/5\n",
      "1875/1875 [==============================] - 14s 7ms/step - loss: 0.1443 - accuracy: 0.2188 - val_loss: 0.1391 - val_accuracy: 0.2194\n"
     ]
    },
    {
     "data": {
      "text/plain": [
       "<keras.callbacks.History at 0x209a6899f40>"
      ]
     },
     "execution_count": 8,
     "metadata": {},
     "output_type": "execute_result"
    }
   ],
   "source": [
    "autoencoder.fit(\n",
    "    X_train, X_train, # No y_train is needed, the model doesn´t care\n",
    "    epochs=5,\n",
    "    validation_data=[X_test, X_test] # N y_test needed, same as before\n",
    ")"
   ]
  },
  {
   "cell_type": "code",
   "execution_count": 9,
   "metadata": {},
   "outputs": [
    {
     "name": "stdout",
     "output_type": "stream",
     "text": [
      "1/1 [==============================] - 0s 147ms/step\n"
     ]
    },
    {
     "data": {
      "image/png": "[encoded data removed]",
      "text/plain": [
       "<Figure size 432x288 with 1 Axes>"
      ]
     },
     "metadata": {
      "needs_background": "light"
     },
     "output_type": "display_data"
    },
    {
     "data": {
      "image/png": "[encoded data removed]",
      "text/plain": [
       "<Figure size 432x288 with 1 Axes>"
      ]
     },
     "metadata": {
      "needs_background": "light"
     },
     "output_type": "display_data"
    },
    {
     "name": "stdout",
     "output_type": "stream",
     "text": [
      "\n"
     ]
    },
    {
     "data": {
      "image/png": "[encoded data removed]",
      "text/plain": [
       "<Figure size 432x288 with 1 Axes>"
      ]
     },
     "metadata": {
      "needs_background": "light"
     },
     "output_type": "display_data"
    },
    {
     "data": {
      "image/png": "[encoded data removed]",
      "text/plain": [
       "<Figure size 432x288 with 1 Axes>"
      ]
     },
     "metadata": {
      "needs_background": "light"
     },
     "output_type": "display_data"
    },
    {
     "name": "stdout",
     "output_type": "stream",
     "text": [
      "\n"
     ]
    },
    {
     "data": {
      "image/png": "[encoded data removed]",
      "text/plain": [
       "<Figure size 432x288 with 1 Axes>"
      ]
     },
     "metadata": {
      "needs_background": "light"
     },
     "output_type": "display_data"
    },
    {
     "data": {
      "image/png": "[encoded data removed]",
      "text/plain": [
       "<Figure size 432x288 with 1 Axes>"
      ]
     },
     "metadata": {
      "needs_background": "light"
     },
     "output_type": "display_data"
    },
    {
     "name": "stdout",
     "output_type": "stream",
     "text": [
      "\n"
     ]
    },
    {
     "data": {
      "image/png": "[encoded data removed]",
      "text/plain": [
       "<Figure size 432x288 with 1 Axes>"
      ]
     },
     "metadata": {
      "needs_background": "light"
     },
     "output_type": "display_data"
    },
    {
     "data": {
      "image/png": "[encoded data removed]",
      "text/plain": [
       "<Figure size 432x288 with 1 Axes>"
      ]
     },
     "metadata": {
      "needs_background": "light"
     },
     "output_type": "display_data"
    },
    {
     "name": "stdout",
     "output_type": "stream",
     "text": [
      "\n"
     ]
    },
    {
     "data": {
      "image/png": "[encoded data removed]",
      "text/plain": [
       "<Figure size 432x288 with 1 Axes>"
      ]
     },
     "metadata": {
      "needs_background": "light"
     },
     "output_type": "display_data"
    },
    {
     "data": {
      "image/png": "[encoded data removed]",
      "text/plain": [
       "<Figure size 432x288 with 1 Axes>"
      ]
     },
     "metadata": {
      "needs_background": "light"
     },
     "output_type": "display_data"
    },
    {
     "name": "stdout",
     "output_type": "stream",
     "text": [
      "\n"
     ]
    }
   ],
   "source": [
    "passed_images = autoencoder.predict(X_test[:10])\n",
    "\n",
    "for i in range(5):\n",
    "    plt.imshow(passed_images[i], cmap=\"Greys\")\n",
    "    plt.show()\n",
    "    plt.imshow(X_test[i], cmap=\"Greys\")\n",
    "    plt.show()\n",
    "    print()\n"
   ]
  },
  {
   "cell_type": "markdown",
   "metadata": {},
   "source": [
    "From the images, the encoder seems to blur the images, however, it is spot on!!"
   ]
  },
  {
   "cell_type": "markdown",
   "metadata": {},
   "source": [
    "### AutoEncoders for Denoising Images"
   ]
  },
  {
   "cell_type": "code",
   "execution_count": 10,
   "metadata": {},
   "outputs": [],
   "source": [
    "from tensorflow.keras.layers import GaussianNoise # Library that can be added to the training data to make images noisier"
   ]
  },
  {
   "cell_type": "code",
   "execution_count": 11,
   "metadata": {},
   "outputs": [],
   "source": [
    "sample = GaussianNoise(0.2) # value inside is a standard deviation, the bigger the value, the noisier\n",
    "noisey = sample(X_test[0:2], training=True)"
   ]
  },
  {
   "cell_type": "code",
   "execution_count": 12,
   "metadata": {},
   "outputs": [
    {
     "data": {
      "text/plain": [
       "<matplotlib.image.AxesImage at 0x209a99afc40>"
      ]
     },
     "execution_count": 12,
     "metadata": {},
     "output_type": "execute_result"
    },
    {
     "data": {
      "image/png": "[encoded data removed]",
      "text/plain": [
       "<Figure size 432x288 with 1 Axes>"
      ]
     },
     "metadata": {
      "needs_background": "light"
     },
     "output_type": "display_data"
    }
   ],
   "source": [
    "plt.imshow(X_test[0], cmap=\"Greys\")"
   ]
  },
  {
   "cell_type": "code",
   "execution_count": 13,
   "metadata": {},
   "outputs": [
    {
     "data": {
      "text/plain": [
       "<matplotlib.image.AxesImage at 0x209a9a19280>"
      ]
     },
     "execution_count": 13,
     "metadata": {},
     "output_type": "execute_result"
    },
    {
     "data": {
      "image/png": "[encoded data removed]",
      "text/plain": [
       "<Figure size 432x288 with 1 Axes>"
      ]
     },
     "metadata": {
      "needs_background": "light"
     },
     "output_type": "display_data"
    }
   ],
   "source": [
    "plt.imshow(noisey[0], cmap=\"Greys\")"
   ]
  },
  {
   "cell_type": "markdown",
   "metadata": {},
   "source": [
    "#### Create  noise removal autoencoder and train it."
   ]
  },
  {
   "cell_type": "code",
   "execution_count": 14,
   "metadata": {},
   "outputs": [],
   "source": [
    "encoder = Sequential()\n",
    "encoder.add(Flatten(input_shape=[28,28]))\n",
    "# Add noise to images before going through autoencoder\n",
    "encoder.add(GaussianNoise(0.2))\n",
    "\n",
    "encoder.add(Dense(784,activation=\"relu\"))\n",
    "encoder.add(Dense(400,activation=\"relu\"))\n",
    "encoder.add(Dense(200,activation=\"relu\"))\n",
    "encoder.add(Dense(100,activation=\"relu\"))\n",
    "encoder.add(Dense(50,activation=\"relu\"))\n",
    "encoder.add(Dense(25,activation=\"relu\"))"
   ]
  },
  {
   "cell_type": "code",
   "execution_count": 15,
   "metadata": {},
   "outputs": [],
   "source": [
    "decoder = Sequential()\n",
    "decoder.add(Dense(50,input_shape=[25],activation='relu'))\n",
    "decoder.add(Dense(100,activation='relu'))\n",
    "decoder.add(Dense(200,activation='relu'))\n",
    "decoder.add(Dense(400,activation='relu'))\n",
    "decoder.add(Dense(28 * 28, activation=\"sigmoid\"))\n",
    "decoder.add(Reshape([28, 28]))"
   ]
  },
  {
   "cell_type": "code",
   "execution_count": 16,
   "metadata": {},
   "outputs": [],
   "source": [
    "noise_remover = Sequential([encoder, decoder])\n",
    "noise_remover.compile(loss=\"binary_crossentropy\", \n",
    "                      optimizer='adam',\n",
    "                      metrics=['accuracy'])"
   ]
  },
  {
   "cell_type": "code",
   "execution_count": 17,
   "metadata": {},
   "outputs": [
    {
     "name": "stdout",
     "output_type": "stream",
     "text": [
      "Epoch 1/8\n",
      "1875/1875 [==============================] - 16s 8ms/step - loss: 0.1741 - accuracy: 0.1775 - val_loss: 0.1414 - val_accuracy: 0.2182\n",
      "Epoch 2/8\n",
      "1875/1875 [==============================] - 16s 8ms/step - loss: 0.1348 - accuracy: 0.2261 - val_loss: 0.1269 - val_accuracy: 0.2305\n",
      "Epoch 3/8\n",
      "1875/1875 [==============================] - 15s 8ms/step - loss: 0.1248 - accuracy: 0.2398 - val_loss: 0.1198 - val_accuracy: 0.2433\n",
      "Epoch 4/8\n",
      "1875/1875 [==============================] - 15s 8ms/step - loss: 0.1209 - accuracy: 0.2466 - val_loss: 0.1166 - val_accuracy: 0.2521\n",
      "Epoch 5/8\n",
      "1875/1875 [==============================] - 35s 19ms/step - loss: 0.1183 - accuracy: 0.2519 - val_loss: 0.1135 - val_accuracy: 0.2536\n",
      "Epoch 6/8\n",
      "1875/1875 [==============================] - 15s 8ms/step - loss: 0.1159 - accuracy: 0.2553 - val_loss: 0.1118 - val_accuracy: 0.2563\n",
      "Epoch 7/8\n",
      "1875/1875 [==============================] - 15s 8ms/step - loss: 0.1140 - accuracy: 0.2585 - val_loss: 0.1110 - val_accuracy: 0.2569\n",
      "Epoch 8/8\n",
      "1875/1875 [==============================] - 16s 8ms/step - loss: 0.1123 - accuracy: 0.2613 - val_loss: 0.1093 - val_accuracy: 0.2578\n"
     ]
    },
    {
     "data": {
      "text/plain": [
       "<keras.callbacks.History at 0x209df80b8b0>"
      ]
     },
     "execution_count": 17,
     "metadata": {},
     "output_type": "execute_result"
    }
   ],
   "source": [
    "noise_remover.fit(X_train, X_train, epochs=8,\n",
    "                           validation_data=[X_test, X_test])"
   ]
  },
  {
   "cell_type": "code",
   "execution_count": 19,
   "metadata": {},
   "outputs": [],
   "source": [
    "ten_noisey_images = sample(X_test[0:10],training=True)\n",
    "denoised = noise_remover(ten_noisey_images[0:10])"
   ]
  },
  {
   "cell_type": "code",
   "execution_count": 21,
   "metadata": {},
   "outputs": [
    {
     "name": "stdout",
     "output_type": "stream",
     "text": [
      "The Original\n"
     ]
    },
    {
     "data": {
      "image/png": "[encoded data removed]",
      "text/plain": [
       "<Figure size 432x288 with 1 Axes>"
      ]
     },
     "metadata": {
      "needs_background": "light"
     },
     "output_type": "display_data"
    },
    {
     "name": "stdout",
     "output_type": "stream",
     "text": [
      "The Noisey Version\n"
     ]
    },
    {
     "data": {
      "image/png": "[encoded data removed]",
      "text/plain": [
       "<Figure size 432x288 with 1 Axes>"
      ]
     },
     "metadata": {
      "needs_background": "light"
     },
     "output_type": "display_data"
    },
    {
     "name": "stdout",
     "output_type": "stream",
     "text": [
      "After going through denoiser\n"
     ]
    },
    {
     "data": {
      "image/png": "[encoded data removed]",
      "text/plain": [
       "<Figure size 432x288 with 1 Axes>"
      ]
     },
     "metadata": {
      "needs_background": "light"
     },
     "output_type": "display_data"
    }
   ],
   "source": [
    "n = 1\n",
    "print(\"The Original\")\n",
    "plt.imshow(X_test[n], cmap=\"Greys\")\n",
    "plt.show()\n",
    "print(\"The Noisey Version\")\n",
    "plt.imshow(ten_noisey_images[n], cmap=\"Greys\") # Double noise the one applied at the start, the other from the autoencoder\n",
    "plt.show()\n",
    "print(\"After going through denoiser\")\n",
    "plt.imshow(denoised[n], cmap=\"Greys\")\n",
    "plt.show()"
   ]
  },
  {
   "cell_type": "markdown",
   "metadata": {},
   "source": [
    "The denoiser makes a great job, and performs very well when taking the reading the important data"
   ]
  }
 ],
 "metadata": {
  "kernelspec": {
   "display_name": "Python 3.9.12 ('base')",
   "language": "python",
   "name": "python3"
  },
  "language_info": {
   "codemirror_mode": {
    "name": "ipython",
    "version": 3
   },
   "file_extension": ".py",
   "mimetype": "text/x-python",
   "name": "python",
   "nbconvert_exporter": "python",
   "pygments_lexer": "ipython3",
   "version": "3.9.12"
  },
  "vscode": {
   "interpreter": {
    "hash": "20a9e06a1eee47c4abbed4ec8225ad91d78d9800d202b71b6b0a6e47016c6abd"
   }
  }
 },
 "nbformat": 4,
 "nbformat_minor": 2
}
