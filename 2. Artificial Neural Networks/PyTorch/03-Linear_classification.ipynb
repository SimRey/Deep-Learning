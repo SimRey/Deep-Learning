{
 "cells": [
  {
   "cell_type": "markdown",
   "metadata": {},
   "source": [
    "## Linear classifier\n",
    "\n",
    "For more information see chapter 4"
   ]
  },
  {
   "cell_type": "code",
   "execution_count": 1,
   "metadata": {},
   "outputs": [],
   "source": [
    "import torch\n",
    "import torch.nn as nn\n",
    "import torch.nn.functional as F\n",
    "import pandas as pd\n",
    "import numpy as np\n",
    "from torch.utils.data import TensorDataset, DataLoader\n",
    "from sklearn.model_selection import train_test_split\n",
    "from sklearn.preprocessing import StandardScaler\n",
    "from sklearn.metrics import confusion_matrix  # for evaluating results\n",
    "import matplotlib.pyplot as plt\n",
    "import seaborn as sns"
   ]
  },
  {
   "cell_type": "markdown",
   "metadata": {},
   "source": [
    "#### Problem: Iris classification\n",
    "\n",
    "For this notebook a linear classifier will be used in the iris dataset in order to classify different plants"
   ]
  },
  {
   "cell_type": "code",
   "execution_count": 2,
   "metadata": {},
   "outputs": [
    {
     "data": {
      "text/html": [
       "<div>\n",
       "<style scoped>\n",
       "    .dataframe tbody tr th:only-of-type {\n",
       "        vertical-align: middle;\n",
       "    }\n",
       "\n",
       "    .dataframe tbody tr th {\n",
       "        vertical-align: top;\n",
       "    }\n",
       "\n",
       "    .dataframe thead th {\n",
       "        text-align: right;\n",
       "    }\n",
       "</style>\n",
       "<table border=\"1\" class=\"dataframe\">\n",
       "  <thead>\n",
       "    <tr style=\"text-align: right;\">\n",
       "      <th></th>\n",
       "      <th>sepal length (cm)</th>\n",
       "      <th>sepal width (cm)</th>\n",
       "      <th>petal length (cm)</th>\n",
       "      <th>petal width (cm)</th>\n",
       "      <th>target</th>\n",
       "    </tr>\n",
       "  </thead>\n",
       "  <tbody>\n",
       "    <tr>\n",
       "      <th>0</th>\n",
       "      <td>5.1</td>\n",
       "      <td>3.5</td>\n",
       "      <td>1.4</td>\n",
       "      <td>0.2</td>\n",
       "      <td>0.0</td>\n",
       "    </tr>\n",
       "    <tr>\n",
       "      <th>1</th>\n",
       "      <td>4.9</td>\n",
       "      <td>3.0</td>\n",
       "      <td>1.4</td>\n",
       "      <td>0.2</td>\n",
       "      <td>0.0</td>\n",
       "    </tr>\n",
       "    <tr>\n",
       "      <th>2</th>\n",
       "      <td>4.7</td>\n",
       "      <td>3.2</td>\n",
       "      <td>1.3</td>\n",
       "      <td>0.2</td>\n",
       "      <td>0.0</td>\n",
       "    </tr>\n",
       "    <tr>\n",
       "      <th>3</th>\n",
       "      <td>4.6</td>\n",
       "      <td>3.1</td>\n",
       "      <td>1.5</td>\n",
       "      <td>0.2</td>\n",
       "      <td>0.0</td>\n",
       "    </tr>\n",
       "    <tr>\n",
       "      <th>4</th>\n",
       "      <td>5.0</td>\n",
       "      <td>3.6</td>\n",
       "      <td>1.4</td>\n",
       "      <td>0.2</td>\n",
       "      <td>0.0</td>\n",
       "    </tr>\n",
       "    <tr>\n",
       "      <th>...</th>\n",
       "      <td>...</td>\n",
       "      <td>...</td>\n",
       "      <td>...</td>\n",
       "      <td>...</td>\n",
       "      <td>...</td>\n",
       "    </tr>\n",
       "    <tr>\n",
       "      <th>145</th>\n",
       "      <td>6.7</td>\n",
       "      <td>3.0</td>\n",
       "      <td>5.2</td>\n",
       "      <td>2.3</td>\n",
       "      <td>2.0</td>\n",
       "    </tr>\n",
       "    <tr>\n",
       "      <th>146</th>\n",
       "      <td>6.3</td>\n",
       "      <td>2.5</td>\n",
       "      <td>5.0</td>\n",
       "      <td>1.9</td>\n",
       "      <td>2.0</td>\n",
       "    </tr>\n",
       "    <tr>\n",
       "      <th>147</th>\n",
       "      <td>6.5</td>\n",
       "      <td>3.0</td>\n",
       "      <td>5.2</td>\n",
       "      <td>2.0</td>\n",
       "      <td>2.0</td>\n",
       "    </tr>\n",
       "    <tr>\n",
       "      <th>148</th>\n",
       "      <td>6.2</td>\n",
       "      <td>3.4</td>\n",
       "      <td>5.4</td>\n",
       "      <td>2.3</td>\n",
       "      <td>2.0</td>\n",
       "    </tr>\n",
       "    <tr>\n",
       "      <th>149</th>\n",
       "      <td>5.9</td>\n",
       "      <td>3.0</td>\n",
       "      <td>5.1</td>\n",
       "      <td>1.8</td>\n",
       "      <td>2.0</td>\n",
       "    </tr>\n",
       "  </tbody>\n",
       "</table>\n",
       "<p>150 rows × 5 columns</p>\n",
       "</div>"
      ],
      "text/plain": [
       "     sepal length (cm)  sepal width (cm)  petal length (cm)  petal width (cm)  \\\n",
       "0                  5.1               3.5                1.4               0.2   \n",
       "1                  4.9               3.0                1.4               0.2   \n",
       "2                  4.7               3.2                1.3               0.2   \n",
       "3                  4.6               3.1                1.5               0.2   \n",
       "4                  5.0               3.6                1.4               0.2   \n",
       "..                 ...               ...                ...               ...   \n",
       "145                6.7               3.0                5.2               2.3   \n",
       "146                6.3               2.5                5.0               1.9   \n",
       "147                6.5               3.0                5.2               2.0   \n",
       "148                6.2               3.4                5.4               2.3   \n",
       "149                5.9               3.0                5.1               1.8   \n",
       "\n",
       "     target  \n",
       "0       0.0  \n",
       "1       0.0  \n",
       "2       0.0  \n",
       "3       0.0  \n",
       "4       0.0  \n",
       "..      ...  \n",
       "145     2.0  \n",
       "146     2.0  \n",
       "147     2.0  \n",
       "148     2.0  \n",
       "149     2.0  \n",
       "\n",
       "[150 rows x 5 columns]"
      ]
     },
     "execution_count": 2,
     "metadata": {},
     "output_type": "execute_result"
    }
   ],
   "source": [
    "df = pd.read_csv(\"C:/Users/Lenovo/Desktop/Python/Deep Learning/Data Sets/PyTorch/iris.csv\")\n",
    "df"
   ]
  },
  {
   "cell_type": "code",
   "execution_count": 3,
   "metadata": {},
   "outputs": [
    {
     "data": {
      "text/plain": [
       "<AxesSubplot:xlabel='target', ylabel='count'>"
      ]
     },
     "execution_count": 3,
     "metadata": {},
     "output_type": "execute_result"
    },
    {
     "data": {
      "image/png": "[encoded data removed]",
      "text/plain": [
       "<Figure size 640x480 with 1 Axes>"
      ]
     },
     "metadata": {},
     "output_type": "display_data"
    }
   ],
   "source": [
    "sns.countplot(data=df, x=\"target\")"
   ]
  },
  {
   "cell_type": "markdown",
   "metadata": {},
   "source": [
    "#### 1. DataLoader"
   ]
  },
  {
   "cell_type": "code",
   "execution_count": 4,
   "metadata": {},
   "outputs": [],
   "source": [
    "class CustomDataLoader:\n",
    "    def __init__(self, data, target, val_size=0.3, test_size=0.2, batch_size=64):  \n",
    "        self.batch_size = batch_size\n",
    "        self.X_train, self.X_val, self.y_train, self.y_val = train_test_split(data.values, target.values, test_size=val_size, random_state=42)\n",
    "        self.X_val, self.X_test, self.y_val, self.y_test = train_test_split(self.X_val, self.y_val, test_size=test_size, random_state=42)\n",
    "\n",
    "        self.scaler = StandardScaler()\n",
    "        self.X_train = self.scaler.fit_transform(self.X_train)\n",
    "        self.X_val = self.scaler.transform(self.X_val)\n",
    "        self.X_test = self.scaler.transform(self.X_test)\n",
    "\n",
    "    def get_data_loaders(self):\n",
    "        train_dataset = TensorDataset(torch.tensor(self.X_train, dtype=torch.float32),\n",
    "            torch.tensor(self.y_train, dtype=torch.long))\n",
    "        val_dataset = TensorDataset(torch.tensor(self.X_val, dtype=torch.float32),\n",
    "            torch.tensor(self.y_val, dtype=torch.long))\n",
    "        test_dataset = TensorDataset(torch.tensor(self.X_test, dtype=torch.float32),\n",
    "            torch.tensor(self.y_test, dtype=torch.long))\n",
    "        \n",
    "        \n",
    "        train_loader = DataLoader(train_dataset, batch_size=self.batch_size, shuffle=True)\n",
    "        val_loader = DataLoader(val_dataset, batch_size=self.batch_size, shuffle=True)\n",
    "        test_loader = DataLoader(test_dataset, batch_size=self.batch_size, shuffle=False)\n",
    "\n",
    "        return train_loader, val_loader, test_loader\n",
    "\n",
    "\n",
    "\n",
    "X = df.drop(columns=\"target\")\n",
    "y = df[\"target\"]\n",
    "custom_loader = CustomDataLoader(X, y)\n",
    "train_loader, val_loader, test_loader = custom_loader.get_data_loaders()"
   ]
  },
  {
   "cell_type": "markdown",
   "metadata": {},
   "source": [
    "#### 2. Model"
   ]
  },
  {
   "cell_type": "code",
   "execution_count": 5,
   "metadata": {},
   "outputs": [],
   "source": [
    "class Model(nn.Module):\n",
    "    def __init__(self, in_features, out_features):\n",
    "        super().__init__()\n",
    "        self.linear = nn.Linear(in_features, out_features)\n",
    "        \n",
    "    def forward(self, x):\n",
    "        x = self.linear(x)\n",
    "        y_pred = F.log_softmax(x, dim=1)\n",
    "        return y_pred"
   ]
  },
  {
   "cell_type": "code",
   "execution_count": 6,
   "metadata": {},
   "outputs": [
    {
     "name": "stdout",
     "output_type": "stream",
     "text": [
      "Model(\n",
      "  (linear): Linear(in_features=4, out_features=3, bias=True)\n",
      ")\n"
     ]
    }
   ],
   "source": [
    "model = Model(in_features=X.shape[1], out_features=y.nunique())\n",
    "print(model)"
   ]
  },
  {
   "cell_type": "markdown",
   "metadata": {},
   "source": [
    "#### 3. The Loss function and optimizer\n",
    "\n",
    "The cross-entropy loss function, often used in classification tasks, is defined as follows:\n",
    "\n",
    "$$CE = -\\frac{1}{n} \\sum_{i=1}^{n} [y_i \\log(\\hat{y}_i) + (1 - y_i) \\log(1 - \\hat{y}_i)]$$\n",
    "\n",
    "Where:\n",
    "- $n$ is the number of samples.\n",
    "- $y_i$ is the true label (0 or 1) for the $i$-th sample.\n",
    "- $\\hat{y}_i$ is the predicted probability that the $i$-th sample belongs to class 1.\n",
    "\n",
    "For binary classification using a linear model, you can typically use a logistic function to predict probabilities:\n",
    "\n",
    "$$ \\hat{y}_i = \\sigma(wx_i + b) $$\n",
    "\n",
    "Where $ \\sigma $ is the sigmoid function.\n"
   ]
  },
  {
   "cell_type": "code",
   "execution_count": 7,
   "metadata": {},
   "outputs": [],
   "source": [
    "criterion = nn.CrossEntropyLoss()\n",
    "optimizer = torch.optim.SGD(model.parameters(), lr = 0.001)"
   ]
  },
  {
   "cell_type": "markdown",
   "metadata": {},
   "source": [
    "#### 4. Train the model"
   ]
  },
  {
   "cell_type": "code",
   "execution_count": 8,
   "metadata": {},
   "outputs": [
    {
     "name": "stdout",
     "output_type": "stream",
     "text": [
      "Epoch 1/5000, Train Loss: 1.5435, Test Loss: 1.5872\n"
     ]
    },
    {
     "name": "stdout",
     "output_type": "stream",
     "text": [
      "Epoch 101/5000, Train Loss: 1.2655, Test Loss: 1.2569\n",
      "Epoch 201/5000, Train Loss: 1.0691, Test Loss: 1.0274\n",
      "Epoch 301/5000, Train Loss: 0.9318, Test Loss: 0.8711\n",
      "Epoch 401/5000, Train Loss: 0.8341, Test Loss: 0.7634\n",
      "Epoch 501/5000, Train Loss: 0.7626, Test Loss: 0.6877\n",
      "Epoch 601/5000, Train Loss: 0.7081, Test Loss: 0.6321\n",
      "Epoch 701/5000, Train Loss: 0.6653, Test Loss: 0.5899\n",
      "Epoch 801/5000, Train Loss: 0.6307, Test Loss: 0.5569\n",
      "Epoch 901/5000, Train Loss: 0.6020, Test Loss: 0.5304\n",
      "Epoch 1001/5000, Train Loss: 0.5778, Test Loss: 0.5085\n",
      "Epoch 1101/5000, Train Loss: 0.5570, Test Loss: 0.4901\n",
      "Epoch 1201/5000, Train Loss: 0.5390, Test Loss: 0.4743\n",
      "Epoch 1301/5000, Train Loss: 0.5231, Test Loss: 0.4606\n",
      "Epoch 1401/5000, Train Loss: 0.5090, Test Loss: 0.4486\n",
      "Epoch 1501/5000, Train Loss: 0.4965, Test Loss: 0.4379\n",
      "Epoch 1601/5000, Train Loss: 0.4852, Test Loss: 0.4283\n",
      "Epoch 1701/5000, Train Loss: 0.4749, Test Loss: 0.4195\n",
      "Epoch 1801/5000, Train Loss: 0.4656, Test Loss: 0.4116\n",
      "Epoch 1901/5000, Train Loss: 0.4570, Test Loss: 0.4043\n",
      "Epoch 2001/5000, Train Loss: 0.4491, Test Loss: 0.3975\n",
      "Epoch 2101/5000, Train Loss: 0.4418, Test Loss: 0.3913\n",
      "Epoch 2201/5000, Train Loss: 0.4351, Test Loss: 0.3855\n",
      "Epoch 2301/5000, Train Loss: 0.4288, Test Loss: 0.3800\n",
      "Epoch 2401/5000, Train Loss: 0.4230, Test Loss: 0.3749\n",
      "Epoch 2501/5000, Train Loss: 0.4175, Test Loss: 0.3700\n",
      "Epoch 2601/5000, Train Loss: 0.4123, Test Loss: 0.3654\n",
      "Epoch 2701/5000, Train Loss: 0.4075, Test Loss: 0.3610\n",
      "Epoch 2801/5000, Train Loss: 0.4029, Test Loss: 0.3569\n",
      "Epoch 2901/5000, Train Loss: 0.3986, Test Loss: 0.3529\n",
      "Epoch 3001/5000, Train Loss: 0.3944, Test Loss: 0.3492\n",
      "Epoch 3101/5000, Train Loss: 0.3905, Test Loss: 0.3456\n",
      "Epoch 3201/5000, Train Loss: 0.3868, Test Loss: 0.3421\n",
      "Epoch 3301/5000, Train Loss: 0.3832, Test Loss: 0.3388\n",
      "Epoch 3401/5000, Train Loss: 0.3798, Test Loss: 0.3356\n",
      "Epoch 3501/5000, Train Loss: 0.3766, Test Loss: 0.3325\n",
      "Epoch 3601/5000, Train Loss: 0.3734, Test Loss: 0.3295\n",
      "Epoch 3701/5000, Train Loss: 0.3704, Test Loss: 0.3266\n",
      "Epoch 3801/5000, Train Loss: 0.3675, Test Loss: 0.3238\n",
      "Epoch 3901/5000, Train Loss: 0.3646, Test Loss: 0.3210\n",
      "Epoch 4001/5000, Train Loss: 0.3619, Test Loss: 0.3184\n",
      "Epoch 4101/5000, Train Loss: 0.3593, Test Loss: 0.3158\n",
      "Epoch 4201/5000, Train Loss: 0.3567, Test Loss: 0.3132\n",
      "Epoch 4301/5000, Train Loss: 0.3543, Test Loss: 0.3108\n",
      "Epoch 4401/5000, Train Loss: 0.3519, Test Loss: 0.3084\n",
      "Epoch 4501/5000, Train Loss: 0.3496, Test Loss: 0.3061\n",
      "Epoch 4601/5000, Train Loss: 0.3473, Test Loss: 0.3038\n",
      "Epoch 4701/5000, Train Loss: 0.3451, Test Loss: 0.3015\n",
      "Epoch 4801/5000, Train Loss: 0.3429, Test Loss: 0.2994\n",
      "Epoch 4901/5000, Train Loss: 0.3408, Test Loss: 0.2972\n"
     ]
    },
    {
     "data": {
      "image/png": "[encoded data removed]",
      "text/plain": [
       "<Figure size 640x480 with 1 Axes>"
      ]
     },
     "metadata": {},
     "output_type": "display_data"
    },
    {
     "name": "stdout",
     "output_type": "stream",
     "text": [
      "[[3 0 0]\n",
      " [0 1 0]\n",
      " [0 2 3]]\n"
     ]
    }
   ],
   "source": [
    "class Trainer:\n",
    "    def __init__(self, model, optimizer, criterion, train_loader, val_loader):\n",
    "        self.model = model\n",
    "        self.optimizer = optimizer\n",
    "        self.criterion = criterion\n",
    "        self.train_loader = train_loader\n",
    "        self.val_loader = val_loader\n",
    "    \n",
    "    def train(self, max_epochs):\n",
    "        self.train_losses = []\n",
    "        self.val_losses = []\n",
    "\n",
    "        # Training\n",
    "        for epoch in range(max_epochs):\n",
    "            self.model.train\n",
    "            train_loss = 0\n",
    "\n",
    "            for inputs, labels in self.train_loader:\n",
    "                self.optimizer.zero_grad()\n",
    "                outputs = self.model(inputs)\n",
    "                loss = self.criterion(outputs.squeeze(), labels)\n",
    "                loss.backward()\n",
    "                self.optimizer.step()\n",
    "                train_loss += loss.item() * inputs.size(0)\n",
    "            train_loss /= len(self.train_loader.dataset)\n",
    "            self.train_losses.append(train_loss)\n",
    "\n",
    "            # Validation\n",
    "            self.model.eval()\n",
    "            val_loss = 0.0\n",
    "            with torch.no_grad():\n",
    "                for inputs, labels in self.val_loader:\n",
    "                    outputs = self.model(inputs)\n",
    "                    loss = self.criterion(outputs.squeeze(), labels)\n",
    "                    val_loss += loss.item() * inputs.size(0)\n",
    "                val_loss /= len(self.val_loader.dataset)\n",
    "            self.val_losses.append(val_loss)\n",
    "\n",
    "            if epoch % 100 == 0:\n",
    "                print(f'Epoch {epoch+1}/{max_epochs}, Train Loss: {train_loss:.4f}, Test Loss: {val_loss:.4f}')\n",
    " \n",
    "        return self.model\n",
    "    \n",
    "    def plot_losses(self, train_losses, test_losses):\n",
    "        plt.plot(train_losses, label='Train Loss')\n",
    "        plt.plot(test_losses, label='Test Loss')\n",
    "        plt.xlabel('Epoch')\n",
    "        plt.ylabel('Loss')\n",
    "        plt.yscale('log')  # Set y-axis scale to logarithmic\n",
    "        plt.title('Training and Testing Losses')\n",
    "        plt.legend()\n",
    "        plt.show()\n",
    "    \n",
    "    def evaluation(self, model, test_loader):\n",
    "        model.eval()\n",
    "        with torch.no_grad():\n",
    "            for inputs, labels in test_loader:\n",
    "                outputs = model(inputs.squeeze())\n",
    "                outputs = torch.max(outputs,1)[1]\n",
    "        print(confusion_matrix(outputs.view(-1), labels.view(-1)))\n",
    "                    \n",
    "\n",
    "trainer = Trainer(model, optimizer, criterion, train_loader, val_loader)   \n",
    "model = trainer.train(int(5e3))      \n",
    "trainer.plot_losses(trainer.train_losses, trainer.val_losses)\n",
    "trainer.evaluation(model, test_loader)"
   ]
  }
 ],
 "metadata": {
  "kernelspec": {
   "display_name": "d2l",
   "language": "python",
   "name": "python3"
  },
  "language_info": {
   "codemirror_mode": {
    "name": "ipython",
    "version": 3
   },
   "file_extension": ".py",
   "mimetype": "text/x-python",
   "name": "python",
   "nbconvert_exporter": "python",
   "pygments_lexer": "ipython3",
   "version": "3.9.13"
  }
 },
 "nbformat": 4,
 "nbformat_minor": 2
}
