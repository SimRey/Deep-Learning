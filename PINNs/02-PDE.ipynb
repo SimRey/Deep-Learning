{
 "cells": [
  {
   "cell_type": "markdown",
   "metadata": {},
   "source": [
    "## Physics-informed neural networks (PINNs) - PDE\n",
    "\n",
    "In the following notebook we will showcase a formulation capable of approximating the solution of PDEs using PINNs."
   ]
  },
  {
   "cell_type": "code",
   "execution_count": 1,
   "metadata": {
    "tags": []
   },
   "outputs": [],
   "source": [
    "import math\n",
    "\n",
    "import torch\n",
    "import torch.nn as nn\n",
    "import torch.nn.functional as F\n",
    "\n",
    "import numpy as np\n",
    "import seaborn as sns\n",
    "import matplotlib.pyplot as plt"
   ]
  },
  {
   "cell_type": "markdown",
   "metadata": {},
   "source": [
    "### Example\n",
    "\n",
    "We'll now consider the **Burgers' equation** and solve it using PINNs. The equation describes the dynamics of viscous fluids and can be expressed as:\n",
    "\n",
    "$$\n",
    "u_t + uu_x - \\nu u_{xx} = 0\n",
    "$$\n",
    "\n",
    "Here, $ u(x, t) $ represents the velocity field of the fluid, $ \\nu $ is the kinematic viscosity, and subscripts denote partial derivatives with respect to the corresponding variables.\n",
    "\n",
    "We're particularly interested in solving the Burgers' equation under certain conditions. Let's assume a scenario where viscosity ($ \\nu $) is small, leading to a phenomenon known as the **shock formation**. Mathematically, this is when:\n",
    "\n",
    "$$\n",
    "\\nu \\ll 1\n",
    "$$\n",
    "\n",
    "Additionally, let's specify the initial condition for the problem:\n",
    "\n",
    "$$\n",
    "u(x, t=0) = f(x)\n",
    "$$\n",
    "\n",
    "For this example, we'll consider a simple initial condition $ f(x) = \\sin(\\pi x) $.\n",
    "\n",
    "\n",
    "Given the nature of fluid dynamics, it's common to impose boundary conditions. In this case, we'll assume **periodic boundary conditions** where the values at both ends of the domain $ x $ wrap around to each other. \n",
    "Mathematically, this can be expressed as:\n",
    "\n",
    "$$\n",
    "u(x=-1, t) = u(x=1, t) = 0\n",
    "$$\n",
    "\n",
    "The exact solution for this case is not readily available due to the nature of Burgers' equation. Hence, numerical methods like PINNs become particularly useful for approximating solutions in such scenarios.\n",
    "\n",
    "\n",
    "\n",
    "\n",
    "\n",
    "$$\n",
    "u_x(x, t=0) = 0\n",
    "$$\n",
    "\n",
    "These boundary and initial conditions, along with the Burgers' equation itself, form a well-defined initial-boundary value problem suitable for numerical solution using methods like PINNs."
   ]
  },
  {
   "cell_type": "code",
   "execution_count": 2,
   "metadata": {
    "tags": []
   },
   "outputs": [],
   "source": [
    "### Neural Network ###\n",
    "\n",
    "class Model(nn.Module):\n",
    "    def __init__(self, in_features, out_features, hidden_layer_sizes):\n",
    "        super().__init__()\n",
    "        layers = []\n",
    "        # Adding input layer to the first hidden layer\n",
    "        layers.append(nn.Linear(in_features, hidden_layer_sizes[0]))\n",
    "        layers.append(nn.Tanh())  # Tanh activation function for this type of network is used\n",
    "        # Adding hidden layers\n",
    "        for i in range(len(hidden_layer_sizes) - 1):\n",
    "            layers.append(nn.Linear(hidden_layer_sizes[i], hidden_layer_sizes[i+1]))\n",
    "            layers.append(nn.Tanh())  \n",
    "        # Adding output layer\n",
    "        layers.append(nn.Linear(hidden_layer_sizes[-1], out_features))\n",
    "        \n",
    "        # Combining all layers into a Sequential module\n",
    "        self.model = nn.Sequential(*layers)\n",
    "        \n",
    "    def forward(self, x):\n",
    "        return self.model(x)"
   ]
  },
  {
   "cell_type": "code",
   "execution_count": 3,
   "metadata": {
    "tags": []
   },
   "outputs": [],
   "source": [
    "class Net:\n",
    "    def __init__(self):\n",
    "\n",
    "        self.model = Model(\n",
    "            in_features=2, \n",
    "            out_features=1, \n",
    "            hidden_layer_sizes=[20,20,20,20])\n",
    "        \n",
    "        self.h = 0.1\n",
    "        self.k = 0.1\n",
    "        x = torch.arange(-1, 1 + self.h, self.h)\n",
    "        t = torch.arange(0, 1 + self.k, self.k)\n",
    "\n",
    "        # PDE\n",
    "        # Here the matrix with the x and t coordinates is built\n",
    "        self.X = torch.stack(torch.meshgrid(x, t)).reshape(2, -1).T\n",
    "        self.X.requires_grad = True\n",
    "        \n",
    "        # Boundary\n",
    "        # Here the boundary conditions and initial conditions are set, the left hand-side\n",
    "        bc1 = torch.stack(torch.meshgrid(x[0], t)).reshape(2, -1).T\n",
    "        bc2 = torch.stack(torch.meshgrid(x[-1], t)).reshape(2, -1).T\n",
    "        ic = torch.stack(torch.meshgrid(x, t[0])).reshape(2, -1).T\n",
    "        self.X_train = torch.cat([bc1, bc2, ic])\n",
    "        y_bc1 = torch.zeros(len(bc1))\n",
    "        y_bc2 = torch.zeros(len(bc2))\n",
    "        y_ic = -torch.sin(math.pi * ic[:, 0])\n",
    "        self.y_train = torch.cat([y_bc1, y_bc2, y_ic]).unsqueeze(1)\n",
    "        \n",
    "\n",
    "        self.criterion = torch.nn.MSELoss()\n",
    "        self.iter = 1\n",
    "        \n",
    "        self.optimizer = torch.optim.LBFGS(\n",
    "            self.model.parameters(), \n",
    "            lr=1.0, \n",
    "            max_iter=50000, \n",
    "            max_eval=50000, \n",
    "            history_size=50,\n",
    "            tolerance_grad=1e-7, \n",
    "            tolerance_change=1.0 * np.finfo(float).eps,\n",
    "            line_search_fn=\"strong_wolfe\",   # better numerical stability\n",
    "        )\n",
    "        \n",
    "        self.adam = torch.optim.Adam(self.model.parameters())\n",
    "        \n",
    "    def loss_func(self):\n",
    "        self.adam.zero_grad()\n",
    "        self.optimizer.zero_grad()\n",
    "\n",
    "        # Boundary condition loss        \n",
    "        y_pred = self.model(self.X_train)\n",
    "        bc_loss = self.criterion(y_pred, self.y_train)\n",
    "\n",
    "        # PDE loss\n",
    "        u = self.model(self.X)\n",
    "        du_dX = torch.autograd.grad(\n",
    "            inputs=self.X, \n",
    "            outputs=u, \n",
    "            grad_outputs=torch.ones_like(u), \n",
    "            retain_graph=True, \n",
    "            create_graph=True\n",
    "        )[0]\n",
    "        \n",
    "        du_dt = du_dX[:, 1]\n",
    "        du_dx = du_dX[:, 0]\n",
    "        du_dxx = torch.autograd.grad(\n",
    "            inputs=self.X, \n",
    "            outputs=du_dX, \n",
    "            grad_outputs=torch.ones_like(du_dX), \n",
    "            retain_graph=True, \n",
    "            create_graph=True\n",
    "        )[0][:, 0]\n",
    "        \n",
    "        loss_pde = torch.mean((du_dt + u.squeeze() * du_dx - 0.01 / math.pi * du_dxx)**2)\n",
    "        \n",
    "        # Total loss\n",
    "        loss = loss_pde + bc_loss\n",
    "        loss.backward()\n",
    "        \n",
    "        if self.iter % 100 == 0: \n",
    "            print(self.iter, loss.item())\n",
    "        \n",
    "        self.iter = self.iter + 1\n",
    "        return loss\n",
    "    \n",
    "    def train(self, epochs):\n",
    "        self.model.train()\n",
    "        for i in range(epochs):\n",
    "            self.adam.step(self.loss_func)\n",
    "        self.optimizer.step(self.loss_func)\n",
    "        \n",
    "    def eval_(self):\n",
    "        self.model.eval()"
   ]
  },
  {
   "cell_type": "code",
   "execution_count": 4,
   "metadata": {
    "tags": []
   },
   "outputs": [
    {
     "name": "stderr",
     "output_type": "stream",
     "text": [
      "c:\\Users\\Lenovo\\anaconda3\\envs\\myenv\\lib\\site-packages\\torch\\functional.py:504: UserWarning: torch.meshgrid: in an upcoming release, it will be required to pass the indexing argument. (Triggered internally at C:\\actions-runner\\_work\\pytorch\\pytorch\\builder\\windows\\pytorch\\aten\\src\\ATen\\native\\TensorShape.cpp:3484.)\n",
      "  return _VF.meshgrid(tensors, **kwargs)  # type: ignore[attr-defined]\n"
     ]
    },
    {
     "name": "stdout",
     "output_type": "stream",
     "text": [
      "100 0.13816849887371063\n",
      "200 0.08995131403207779\n",
      "300 0.07394653558731079\n",
      "400 0.060422517359256744\n",
      "500 0.03527574986219406\n",
      "600 0.02307911589741707\n",
      "700 0.015951745212078094\n",
      "800 0.013285895809531212\n",
      "900 0.01165241003036499\n",
      "1000 0.010446896776556969\n",
      "1100 0.004249643534421921\n",
      "1200 0.0015728457365185022\n",
      "1300 0.0008953285287134349\n",
      "1400 0.0004991558962501585\n",
      "1500 0.0003672055609058589\n",
      "1600 0.000280227221082896\n",
      "1700 0.0002106645843014121\n",
      "1800 0.00016258395044133067\n",
      "1900 0.0001362192997476086\n",
      "2000 0.0001147075672633946\n",
      "2100 0.00010053086589323357\n",
      "2200 8.971092756837606e-05\n",
      "2300 7.669514161534607e-05\n",
      "2400 6.436024705180898e-05\n",
      "2500 5.5681630328763276e-05\n",
      "2600 4.997461655875668e-05\n",
      "2700 4.798431837116368e-05\n",
      "2800 4.353477561380714e-05\n",
      "2900 3.843251397483982e-05\n",
      "3000 3.4815053368220106e-05\n",
      "3100 3.180313797201961e-05\n",
      "3200 2.9460534278769046e-05\n",
      "3300 2.8820908482884988e-05\n",
      "3400 2.5736688257893547e-05\n",
      "3500 2.4187927920138463e-05\n",
      "3600 2.28506833082065e-05\n",
      "3700 2.102221333188936e-05\n",
      "3800 2.0123974536545575e-05\n",
      "3900 1.7950755136553198e-05\n",
      "4000 1.658788460190408e-05\n",
      "4100 1.5625795640517026e-05\n",
      "4200 1.4289658793131821e-05\n",
      "4300 1.3290431525092572e-05\n",
      "4400 1.200724182126578e-05\n",
      "4500 1.152789354819106e-05\n",
      "4600 1.0931684300885536e-05\n"
     ]
    }
   ],
   "source": [
    "## Training##\n",
    "net = Net()\n",
    "net.train(1000)"
   ]
  },
  {
   "cell_type": "code",
   "execution_count": 5,
   "metadata": {
    "tags": []
   },
   "outputs": [],
   "source": [
    "## Evaluation ##\n",
    "\n",
    "net.model.eval()\n",
    "h = 0.01\n",
    "k = 0.01\n",
    "x = torch.arange(-1, 1, h)\n",
    "t = torch.arange(0, 1, k)\n",
    "\n",
    "# exact solution\n",
    "X = torch.stack(torch.meshgrid(x, t)).reshape(2, -1).T"
   ]
  },
  {
   "cell_type": "code",
   "execution_count": 6,
   "metadata": {
    "tags": []
   },
   "outputs": [],
   "source": [
    "model = net.model\n",
    "model.eval()\n",
    "with torch.no_grad():\n",
    "    y_pred = model(X).reshape(len(x), len(t)).cpu().numpy()"
   ]
  },
  {
   "cell_type": "code",
   "execution_count": 7,
   "metadata": {
    "tags": []
   },
   "outputs": [
    {
     "data": {
      "image/png": "[encoded data removed]",
      "text/plain": [
       "<Figure size 750x450 with 2 Axes>"
      ]
     },
     "metadata": {},
     "output_type": "display_data"
    }
   ],
   "source": [
    "plt.figure(figsize=(5, 3), dpi=150)\n",
    "sns.heatmap(y_pred, cmap='jet')\n",
    "plt.show()"
   ]
  }
 ],
 "metadata": {
  "kernelspec": {
   "display_name": "Python 3 (ipykernel)",
   "language": "python",
   "name": "python3"
  },
  "language_info": {
   "codemirror_mode": {
    "name": "ipython",
    "version": 3
   },
   "file_extension": ".py",
   "mimetype": "text/x-python",
   "name": "python",
   "nbconvert_exporter": "python",
   "pygments_lexer": "ipython3",
   "version": "3.9.13"
  }
 },
 "nbformat": 4,
 "nbformat_minor": 4
}
