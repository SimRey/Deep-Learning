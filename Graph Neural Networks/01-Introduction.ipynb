{
 "cells": [
  {
   "cell_type": "code",
   "execution_count": 1,
   "metadata": {},
   "outputs": [],
   "source": [
    "import torch\n",
    "from torch_geometric.data import Data\n",
    "import networkx as nx\n",
    "from torch_geometric.utils.convert import to_networkx\n",
    "import matplotlib.pyplot as plt\n",
    "\n",
    "# This part allows the graph to be drawn\n",
    "import os\n",
    "os.environ[\"KMP_DUPLICATE_LIB_OK\"]=\"TRUE\""
   ]
  },
  {
   "cell_type": "code",
   "execution_count": 2,
   "metadata": {},
   "outputs": [
    {
     "name": "stderr",
     "output_type": "stream",
     "text": [
      "C:\\Users\\Lenovo\\AppData\\Local\\Temp\\ipykernel_4400\\3617988728.py:17: DeprecationWarning: an integer is required (got type float).  Implicit conversion to integers using __int__ is deprecated, and may be removed in a future version of Python.\n",
      "  edge_weight = torch.tensor([\n"
     ]
    }
   ],
   "source": [
    "# Define a graph with 4 nodes --> 0,1,2,3\n",
    "\n",
    "edge_list = torch.tensor([\n",
    "    [0, 0, 0, 1, 2, 2, 3, 3], # Source nodes\n",
    "    [1, 2, 3, 0, 0, 3, 2, 0] # Destination nodes\n",
    "    ], dtype=torch.long)\n",
    "\n",
    "# Features for each node (4x6) --> six features per node\n",
    "node_features = torch.tensor([\n",
    "    [-8, 1, 5, 8, 2, -3], # Features node 0\n",
    "    [-1, 0, 2, -3, 0, 1], # Features node 1\n",
    "    [1, -1, 0, -1, 2, 1], # Features node 2\n",
    "    [0, 1, 4, -2, 3, 4], # Features node 3\n",
    "], dtype=torch.long)\n",
    "\n",
    "# Weight for each edge (connection)\n",
    "edge_weight = torch.tensor([\n",
    "    [35.], # Weight for nodes (0,1)\n",
    "    [48.], # Weight for nodes (0,2)\n",
    "    [12.], # Weight for nodes (0,3)\n",
    "    [10.], # Weight for nodes (1,0)\n",
    "    [70.], # Weight for nodes (2,0)\n",
    "    [5.], # Weight for nodes (2,3)\n",
    "    [15.], # Weight for nodes (3,2)\n",
    "    [8.], # Weight for nodes (3,0)\n",
    "], dtype=torch.long)"
   ]
  },
  {
   "cell_type": "code",
   "execution_count": 3,
   "metadata": {},
   "outputs": [
    {
     "name": "stdout",
     "output_type": "stream",
     "text": [
      "Number of nodes: 4\n",
      "Number of edges: 8\n",
      "Number of features per node: 6\n"
     ]
    }
   ],
   "source": [
    "# Make data object to store graph information\n",
    "data = Data(x=node_features, edge_index=edge_list, edge_attr=edge_weight)\n",
    "\n",
    "# Print the graph information\n",
    "print(f\"Number of nodes: {data.num_nodes}\")\n",
    "print(f\"Number of edges: {data.num_edges}\")\n",
    "print(f\"Number of features per node: {data.num_node_features}\")\n"
   ]
  },
  {
   "cell_type": "code",
   "execution_count": 4,
   "metadata": {},
   "outputs": [
    {
     "data": {
      "image/png": "[encoded data removed]",
      "text/plain": [
       "<Figure size 432x288 with 1 Axes>"
      ]
     },
     "metadata": {},
     "output_type": "display_data"
    }
   ],
   "source": [
    "# Plot graph\n",
    "G = to_networkx(data)\n",
    "nx.draw_networkx(G)\n",
    "plt.show()"
   ]
  }
 ],
 "metadata": {
  "kernelspec": {
   "display_name": "base",
   "language": "python",
   "name": "python3"
  },
  "language_info": {
   "codemirror_mode": {
    "name": "ipython",
    "version": 3
   },
   "file_extension": ".py",
   "mimetype": "text/x-python",
   "name": "python",
   "nbconvert_exporter": "python",
   "pygments_lexer": "ipython3",
   "version": "3.9.12 (main, Apr  4 2022, 05:22:27) [MSC v.1916 64 bit (AMD64)]"
  },
  "orig_nbformat": 4,
  "vscode": {
   "interpreter": {
    "hash": "20a9e06a1eee47c4abbed4ec8225ad91d78d9800d202b71b6b0a6e47016c6abd"
   }
  }
 },
 "nbformat": 4,
 "nbformat_minor": 2
}
